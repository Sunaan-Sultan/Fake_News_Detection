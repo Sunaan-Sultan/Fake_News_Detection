{
 "cells": [
  {
   "cell_type": "code",
   "execution_count": 67,
   "metadata": {},
   "outputs": [],
   "source": [
    "import pandas as pd\n",
    "import numpy as np\n",
    "import seaborn as sns\n",
    "import matplotlib.pyplot as plt\n",
    "import plotly.express as px\n",
    "import string\n",
    "import warnings\n",
    "from nltk.tokenize import word_tokenize\n",
    "from nltk.corpus import stopwords\n",
    "from nltk.stem import WordNetLemmatizer\n",
    "from transformers import BertTokenizer, BertModel, TransfoXLTokenizer, TransfoXLModel\n",
    "import tensorflow as tf\n",
    "from tensorflow.keras.models import Sequential\n",
    "from tensorflow.keras.models import Model\n",
    "from tensorflow.keras.layers import Conv1D, MaxPooling1D, Flatten, Dense, LSTM, Input, Dropout,Add, Activation, Dense, Lambda, Flatten, LayerNormalization, MultiHeadAttention, GlobalAveragePooling1D\n",
    "from tensorflow.keras.callbacks import EarlyStopping, ModelCheckpoint\n",
    "from tensorflow.keras.optimizers import Adam\n",
    "from statsmodels.tsa.arima.model import ARIMA\n",
    "from sklearn.model_selection import train_test_split\n",
    "from sklearn.preprocessing import MinMaxScaler\n",
    "from sklearn.metrics import mean_absolute_error, mean_squared_error, r2_score, max_error, mean_absolute_percentage_error\n",
    "from sklearn.metrics import accuracy_score, confusion_matrix, roc_auc_score, classification_report\n",
    "from sklearn.linear_model import LogisticRegression\n",
    "\n",
    "from pytorch_forecasting import TimeSeriesDataSet, TemporalFusionTransformer, Baseline\n",
    "from pytorch_forecasting.data import GroupNormalizer\n",
    "from pytorch_lightning import Trainer\n",
    "import torch\n",
    "from tcn import TCN\n",
    "\n",
    "warnings.filterwarnings('ignore')"
   ]
  },
  {
   "cell_type": "code",
   "execution_count": 68,
   "metadata": {},
   "outputs": [
    {
     "name": "stdout",
     "output_type": "stream",
     "text": [
      "   iso Country/Region    unit  1850  1851  1852  1853  1854  1855  1856  ...  \\\n",
      "0  BGD     Bangladesh  MtCO2e  21.5  21.7  22.0  22.2  22.4  22.6  22.8  ...   \n",
      "\n",
      "    2010   2011   2012   2013   2014   2015   2016   2017   2018   2019  \n",
      "0  139.0  144.0  150.0  152.0  158.0  168.0  171.0  179.0  188.0  201.0  \n",
      "\n",
      "[1 rows x 173 columns]\n"
     ]
    }
   ],
   "source": [
    "data = pd.read_csv('ghg-emissions2.csv')\n",
    "data = data[:-2]\n",
    "print(data.head(10))"
   ]
  },
  {
   "cell_type": "code",
   "execution_count": 69,
   "metadata": {},
   "outputs": [
    {
     "data": {
      "text/html": [
       "<div>\n",
       "<style scoped>\n",
       "    .dataframe tbody tr th:only-of-type {\n",
       "        vertical-align: middle;\n",
       "    }\n",
       "\n",
       "    .dataframe tbody tr th {\n",
       "        vertical-align: top;\n",
       "    }\n",
       "\n",
       "    .dataframe thead th {\n",
       "        text-align: right;\n",
       "    }\n",
       "</style>\n",
       "<table border=\"1\" class=\"dataframe\">\n",
       "  <thead>\n",
       "    <tr style=\"text-align: right;\">\n",
       "      <th></th>\n",
       "      <th>GHG_Emissions</th>\n",
       "    </tr>\n",
       "    <tr>\n",
       "      <th>Year</th>\n",
       "      <th></th>\n",
       "    </tr>\n",
       "  </thead>\n",
       "  <tbody>\n",
       "    <tr>\n",
       "      <th>2015</th>\n",
       "      <td>168.0</td>\n",
       "    </tr>\n",
       "    <tr>\n",
       "      <th>2016</th>\n",
       "      <td>171.0</td>\n",
       "    </tr>\n",
       "    <tr>\n",
       "      <th>2017</th>\n",
       "      <td>179.0</td>\n",
       "    </tr>\n",
       "    <tr>\n",
       "      <th>2018</th>\n",
       "      <td>188.0</td>\n",
       "    </tr>\n",
       "    <tr>\n",
       "      <th>2019</th>\n",
       "      <td>201.0</td>\n",
       "    </tr>\n",
       "  </tbody>\n",
       "</table>\n",
       "</div>"
      ],
      "text/plain": [
       "      GHG_Emissions\n",
       "Year               \n",
       "2015          168.0\n",
       "2016          171.0\n",
       "2017          179.0\n",
       "2018          188.0\n",
       "2019          201.0"
      ]
     },
     "execution_count": 69,
     "metadata": {},
     "output_type": "execute_result"
    }
   ],
   "source": [
    "bangladesh_data = data[data['iso'] == 'BGD']\n",
    "bangladesh_data = bangladesh_data.drop(columns=['iso', 'Country/Region', 'unit'])\n",
    "\n",
    "# Transpose the data to have years as rows\n",
    "bangladesh_data = bangladesh_data.T\n",
    "bangladesh_data.columns = ['GHG_Emissions']\n",
    "bangladesh_data.index.name = 'Year'\n",
    "\n",
    "# Convert the index to integers\n",
    "bangladesh_data.index = bangladesh_data.index.astype(int)\n",
    "bangladesh_data.tail(5)"
   ]
  },
  {
   "cell_type": "code",
   "execution_count": 70,
   "metadata": {},
   "outputs": [],
   "source": [
    "# Normalize the data\n",
    "scaler = MinMaxScaler()\n",
    "normalized_data = scaler.fit_transform(bangladesh_data)"
   ]
  },
  {
   "cell_type": "code",
   "execution_count": 71,
   "metadata": {},
   "outputs": [],
   "source": [
    "window_size = 5\n",
    "X = []\n",
    "y = []\n",
    "\n",
    "for i in range(window_size, len(normalized_data)):\n",
    "    X.append(normalized_data[i-window_size:i, 0])\n",
    "    y.append(normalized_data[i, 0])\n",
    "\n",
    "X = np.array(X)\n",
    "y = np.array(y)\n",
    "\n",
    "# Reshape data for CNN\n",
    "X = X.reshape(X.shape[0], X.shape[1], 1)"
   ]
  },
  {
   "cell_type": "code",
   "execution_count": 72,
   "metadata": {},
   "outputs": [],
   "source": [
    "# Split data into training and testing sets\n",
    "train_size = int(len(X) * 0.82)\n",
    "# train_size = int(len(X) * 0.94)\n",
    "# train_size = int(len(X) * 0.9)\n",
    "X_train, X_test = X[:train_size], X[train_size:]\n",
    "y_train, y_test = y[:train_size], y[train_size:]"
   ]
  },
  {
   "cell_type": "markdown",
   "metadata": {},
   "source": [
    "## TCN"
   ]
  },
  {
   "cell_type": "code",
   "execution_count": 13,
   "metadata": {},
   "outputs": [],
   "source": [
    "# TCN model\n",
    "def build_model(input_shape, num_filters=64, kernel_size=3, dropout_rate=0.3):\n",
    "    model = Sequential()\n",
    "\n",
    "    #TCN\n",
    "    model.add(Conv1D(filters=num_filters, kernel_size=kernel_size, padding='causal', activation='relu', input_shape=input_shape))\n",
    "    model.add(Dropout(dropout_rate))\n",
    "    model.add(Conv1D(filters=num_filters, kernel_size=kernel_size, padding='causal', activation='relu'))\n",
    "    model.add(Dropout(dropout_rate))\n",
    "    model.add(Conv1D(filters=num_filters, kernel_size=kernel_size, padding='causal', activation='relu'))\n",
    "    model.add(Dropout(dropout_rate))\n",
    "\n",
    "    # Flatten and Dense layers\n",
    "    model.add(Flatten())\n",
    "    model.add(Dense(50, activation='relu'))\n",
    "    model.add(Dense(1))\n",
    "    model.compile(optimizer=Adam(learning_rate=0.001), loss='mse')\n",
    "    return model\n",
    "\n",
    "input_shape = (X_train.shape[1], X_train.shape[2])\n",
    "model = build_model(input_shape)"
   ]
  },
  {
   "cell_type": "code",
   "execution_count": 7,
   "metadata": {},
   "outputs": [
    {
     "name": "stdout",
     "output_type": "stream",
     "text": [
      "Model: \"sequential\"\n",
      "_________________________________________________________________\n",
      " Layer (type)                Output Shape              Param #   \n",
      "=================================================================\n",
      " tcn (TCN)                   (None, 5, 128)            247168    \n",
      "                                                                 \n",
      " tcn_1 (TCN)                 (None, 5, 64)             94656     \n",
      "                                                                 \n",
      " flatten (Flatten)           (None, 320)               0         \n",
      "                                                                 \n",
      " dense (Dense)               (None, 50)                16050     \n",
      "                                                                 \n",
      " dense_1 (Dense)             (None, 1)                 51        \n",
      "                                                                 \n",
      "=================================================================\n",
      "Total params: 357,925\n",
      "Trainable params: 357,925\n",
      "Non-trainable params: 0\n",
      "_________________________________________________________________\n"
     ]
    }
   ],
   "source": [
    "def build_tcn_model(input_shape, dropout_rate=0.3):\n",
    "    model = Sequential()\n",
    "\n",
    "    # Define input layer\n",
    "    model.add(Input(shape=input_shape))\n",
    "\n",
    "    # TCN Layer\n",
    "\n",
    "    model.add(TCN(128,dilations = [1, 2, 4], return_sequences=True, activation = 'relu'))\n",
    "    model.add(TCN(64,dilations = [1, 2, 4], return_sequences=True, activation = 'relu'))\n",
    "\n",
    "    # Flatten and Dense layers\n",
    "    model.add(Flatten())\n",
    "    model.add(Dense(50, activation='relu'))\n",
    "    model.add(Dropout(dropout_rate))\n",
    "    model.add(Dense(1))\n",
    "\n",
    "    model.compile(optimizer=Adam(learning_rate=0.001), loss='mse')\n",
    "    return model\n",
    "\n",
    "# Assuming X_train is your training data\n",
    "input_shape = (X_train.shape[1], X_train.shape[2])\n",
    "model = build_tcn_model(input_shape)\n",
    "model.summary()"
   ]
  },
  {
   "cell_type": "markdown",
   "metadata": {},
   "source": [
    "## CNN"
   ]
  },
  {
   "cell_type": "code",
   "execution_count": 10,
   "metadata": {},
   "outputs": [],
   "source": [
    "# CNN model\n",
    "model = Sequential([\n",
    "    Conv1D(filters=64, kernel_size=2, activation='relu', input_shape=(window_size, 1)),\n",
    "    MaxPooling1D(pool_size=2),\n",
    "    Flatten(),\n",
    "    Dense(50, activation='relu'),\n",
    "    Dense(1)\n",
    "])\n",
    "\n",
    "model.compile(optimizer='adam', loss='mse')"
   ]
  },
  {
   "cell_type": "markdown",
   "metadata": {},
   "source": [
    "## CNN-LSTM"
   ]
  },
  {
   "cell_type": "code",
   "execution_count": 7,
   "metadata": {},
   "outputs": [
    {
     "name": "stdout",
     "output_type": "stream",
     "text": [
      "WARNING:tensorflow:Layer lstm will not use cuDNN kernels since it doesn't meet the criteria. It will use a generic GPU kernel as fallback when running on GPU.\n"
     ]
    }
   ],
   "source": [
    "model = Sequential([\n",
    "    Conv1D(filters=64, kernel_size=2, activation='relu', input_shape=(window_size, 1)),\n",
    "    MaxPooling1D(pool_size=2),\n",
    "    LSTM(50, activation='relu'),\n",
    "    Dropout(0.3),\n",
    "    Dense(1)\n",
    "])\n",
    "\n",
    "model.compile(optimizer='adam', loss='mse')"
   ]
  },
  {
   "cell_type": "markdown",
   "metadata": {},
   "source": [
    "## LSTM"
   ]
  },
  {
   "cell_type": "code",
   "execution_count": 35,
   "metadata": {},
   "outputs": [
    {
     "name": "stdout",
     "output_type": "stream",
     "text": [
      "WARNING:tensorflow:Layer lstm_4 will not use cuDNN kernels since it doesn't meet the criteria. It will use a generic GPU kernel as fallback when running on GPU.\n",
      "WARNING:tensorflow:Layer lstm_5 will not use cuDNN kernels since it doesn't meet the criteria. It will use a generic GPU kernel as fallback when running on GPU.\n",
      "WARNING:tensorflow:Layer lstm_6 will not use cuDNN kernels since it doesn't meet the criteria. It will use a generic GPU kernel as fallback when running on GPU.\n"
     ]
    }
   ],
   "source": [
    "model = Sequential([\n",
    "    LSTM(50, activation='relu', return_sequences=True, input_shape=(window_size, 1)),\n",
    "    Dropout(0.3),\n",
    "    LSTM(50, activation='relu', return_sequences=True),\n",
    "    Dropout(0.3),\n",
    "    LSTM(50, activation='relu'),\n",
    "    Dropout(0.3),\n",
    "    Dense(1)\n",
    "])\n",
    "\n",
    "model.compile(optimizer='adam', loss='mse')"
   ]
  },
  {
   "cell_type": "code",
   "execution_count": 8,
   "metadata": {},
   "outputs": [],
   "source": [
    "# # Define early stopping and model checkpoint\n",
    "# early_stopping = EarlyStopping(monitor='val_loss', patience=10, restore_best_weights=True)\n",
    "# model_checkpoint = ModelCheckpoint('best_model.h5', save_best_only=True, monitor='val_loss')"
   ]
  },
  {
   "cell_type": "code",
   "execution_count": 17,
   "metadata": {},
   "outputs": [],
   "source": [
    "# Define WaveNet residual block\n",
    "def residual_block(x, dilation_rate):\n",
    "    r = Conv1D(64, kernel_size=2, dilation_rate=dilation_rate, padding='causal', activation='relu')(x)\n",
    "    r = Conv1D(64, kernel_size=2, dilation_rate=dilation_rate, padding='causal')(r)\n",
    "    r = Add()([x, r])\n",
    "    r = Activation('relu')(r)\n",
    "    return r\n",
    "\n",
    "# Define the hybrid WaveNet-TCN model\n",
    "input_layer = Input(shape=(X_train.shape[1], 1))\n",
    "\n",
    "# Add WaveNet residual blocks\n",
    "wavenet_layer = residual_block(input_layer, 1)\n",
    "wavenet_layer = residual_block(wavenet_layer, 2)\n",
    "wavenet_layer = residual_block(wavenet_layer, 4)\n",
    "\n",
    "# Add TCN layers\n",
    "tcn_layer = TCN(128, dilations=[1, 2, 4], activation='relu', return_sequences=True)(wavenet_layer)\n",
    "tcn_layer = TCN(64, dilations=[1, 2, 4], activation='relu', return_sequences=False)(tcn_layer)\n",
    "\n",
    "# Add Dense layers\n",
    "dense_layer_1 = Dense(64, activation='relu')(tcn_layer)\n",
    "output_layer = Dense(1)(dense_layer_1)\n",
    "\n",
    "model = Model(inputs=input_layer, outputs=output_layer)\n",
    "model.compile(optimizer=Adam(learning_rate=0.001), loss='mean_squared_error')"
   ]
  },
  {
   "cell_type": "code",
   "execution_count": 26,
   "metadata": {},
   "outputs": [
    {
     "name": "stdout",
     "output_type": "stream",
     "text": [
      "Epoch 1/50\n",
      "5/5 [==============================] - 0s 16ms/step - loss: 9.4257e-05 - val_loss: 0.0233\n",
      "Epoch 2/50\n",
      "5/5 [==============================] - 0s 12ms/step - loss: 1.0638e-04 - val_loss: 0.0253\n",
      "Epoch 3/50\n",
      "5/5 [==============================] - 0s 12ms/step - loss: 9.4438e-05 - val_loss: 0.0274\n",
      "Epoch 4/50\n",
      "5/5 [==============================] - 0s 12ms/step - loss: 8.7324e-05 - val_loss: 0.0235\n",
      "Epoch 5/50\n",
      "5/5 [==============================] - 0s 12ms/step - loss: 8.3891e-05 - val_loss: 0.0268\n",
      "Epoch 6/50\n",
      "5/5 [==============================] - 0s 11ms/step - loss: 8.6061e-05 - val_loss: 0.0271\n",
      "Epoch 7/50\n",
      "5/5 [==============================] - 0s 12ms/step - loss: 1.0108e-04 - val_loss: 0.0251\n",
      "Epoch 8/50\n",
      "5/5 [==============================] - 0s 11ms/step - loss: 1.2228e-04 - val_loss: 0.0264\n",
      "Epoch 9/50\n",
      "5/5 [==============================] - 0s 12ms/step - loss: 9.4812e-05 - val_loss: 0.0245\n",
      "Epoch 10/50\n",
      "5/5 [==============================] - 0s 12ms/step - loss: 8.8663e-05 - val_loss: 0.0242\n",
      "Epoch 11/50\n",
      "5/5 [==============================] - 0s 13ms/step - loss: 6.3986e-05 - val_loss: 0.0252\n",
      "Epoch 12/50\n",
      "5/5 [==============================] - 0s 12ms/step - loss: 8.3133e-05 - val_loss: 0.0274\n",
      "Epoch 13/50\n",
      "5/5 [==============================] - 0s 12ms/step - loss: 8.3375e-05 - val_loss: 0.0273\n",
      "Epoch 14/50\n",
      "5/5 [==============================] - 0s 11ms/step - loss: 8.7477e-05 - val_loss: 0.0267\n",
      "Epoch 15/50\n",
      "5/5 [==============================] - 0s 12ms/step - loss: 7.5361e-05 - val_loss: 0.0247\n",
      "Epoch 16/50\n",
      "5/5 [==============================] - 0s 14ms/step - loss: 9.4566e-05 - val_loss: 0.0279\n",
      "Epoch 17/50\n",
      "5/5 [==============================] - 0s 12ms/step - loss: 1.5056e-04 - val_loss: 0.0296\n",
      "Epoch 18/50\n",
      "5/5 [==============================] - 0s 12ms/step - loss: 9.2605e-05 - val_loss: 0.0325\n",
      "Epoch 19/50\n",
      "5/5 [==============================] - 0s 12ms/step - loss: 1.1350e-04 - val_loss: 0.0346\n",
      "Epoch 20/50\n",
      "5/5 [==============================] - 0s 12ms/step - loss: 1.0496e-04 - val_loss: 0.0299\n",
      "Epoch 21/50\n",
      "5/5 [==============================] - 0s 11ms/step - loss: 1.3958e-04 - val_loss: 0.0373\n",
      "Epoch 22/50\n",
      "5/5 [==============================] - 0s 11ms/step - loss: 6.5370e-05 - val_loss: 0.0402\n",
      "Epoch 23/50\n",
      "5/5 [==============================] - 0s 11ms/step - loss: 1.0046e-04 - val_loss: 0.0374\n",
      "Epoch 24/50\n",
      "5/5 [==============================] - 0s 11ms/step - loss: 8.1386e-05 - val_loss: 0.0427\n",
      "Epoch 25/50\n",
      "5/5 [==============================] - 0s 12ms/step - loss: 8.7409e-05 - val_loss: 0.0424\n",
      "Epoch 26/50\n",
      "5/5 [==============================] - 0s 12ms/step - loss: 7.4730e-05 - val_loss: 0.0463\n",
      "Epoch 27/50\n",
      "5/5 [==============================] - 0s 12ms/step - loss: 7.5150e-05 - val_loss: 0.0409\n",
      "Epoch 28/50\n",
      "5/5 [==============================] - 0s 12ms/step - loss: 1.0165e-04 - val_loss: 0.0376\n",
      "Epoch 29/50\n",
      "5/5 [==============================] - 0s 11ms/step - loss: 8.0260e-05 - val_loss: 0.0397\n",
      "Epoch 30/50\n",
      "5/5 [==============================] - 0s 11ms/step - loss: 1.2195e-04 - val_loss: 0.0362\n",
      "Epoch 31/50\n",
      "5/5 [==============================] - 0s 11ms/step - loss: 1.0107e-04 - val_loss: 0.0408\n",
      "Epoch 32/50\n",
      "5/5 [==============================] - 0s 11ms/step - loss: 1.1143e-04 - val_loss: 0.0392\n",
      "Epoch 33/50\n",
      "5/5 [==============================] - 0s 11ms/step - loss: 1.1329e-04 - val_loss: 0.0429\n",
      "Epoch 34/50\n",
      "5/5 [==============================] - 0s 11ms/step - loss: 1.1687e-04 - val_loss: 0.0373\n",
      "Epoch 35/50\n",
      "5/5 [==============================] - 0s 11ms/step - loss: 7.9662e-05 - val_loss: 0.0382\n",
      "Epoch 36/50\n",
      "5/5 [==============================] - 0s 11ms/step - loss: 9.2062e-05 - val_loss: 0.0352\n",
      "Epoch 37/50\n",
      "5/5 [==============================] - 0s 12ms/step - loss: 1.0234e-04 - val_loss: 0.0364\n",
      "Epoch 38/50\n",
      "5/5 [==============================] - 0s 11ms/step - loss: 7.1973e-05 - val_loss: 0.0349\n",
      "Epoch 39/50\n",
      "5/5 [==============================] - 0s 11ms/step - loss: 6.3054e-05 - val_loss: 0.0408\n",
      "Epoch 40/50\n",
      "5/5 [==============================] - 0s 11ms/step - loss: 8.7384e-05 - val_loss: 0.0388\n",
      "Epoch 41/50\n",
      "5/5 [==============================] - 0s 11ms/step - loss: 8.8706e-05 - val_loss: 0.0312\n",
      "Epoch 42/50\n",
      "5/5 [==============================] - 0s 11ms/step - loss: 1.2421e-04 - val_loss: 0.0312\n",
      "Epoch 43/50\n",
      "5/5 [==============================] - 0s 11ms/step - loss: 1.1360e-04 - val_loss: 0.0350\n",
      "Epoch 44/50\n",
      "5/5 [==============================] - 0s 10ms/step - loss: 8.1479e-05 - val_loss: 0.0353\n",
      "Epoch 45/50\n",
      "5/5 [==============================] - 0s 11ms/step - loss: 1.0167e-04 - val_loss: 0.0327\n",
      "Epoch 46/50\n",
      "5/5 [==============================] - 0s 11ms/step - loss: 9.5267e-05 - val_loss: 0.0374\n",
      "Epoch 47/50\n",
      "5/5 [==============================] - 0s 11ms/step - loss: 8.3695e-05 - val_loss: 0.0275\n",
      "Epoch 48/50\n",
      "5/5 [==============================] - 0s 11ms/step - loss: 1.0945e-04 - val_loss: 0.0322\n",
      "Epoch 49/50\n",
      "5/5 [==============================] - 0s 12ms/step - loss: 9.6189e-05 - val_loss: 0.0383\n",
      "Epoch 50/50\n",
      "5/5 [==============================] - 0s 14ms/step - loss: 1.1279e-04 - val_loss: 0.0375\n"
     ]
    }
   ],
   "source": [
    "history = model.fit(X_train, y_train, epochs=50, validation_data=(X_test, y_test), verbose=1)"
   ]
  },
  {
   "cell_type": "code",
   "execution_count": 27,
   "metadata": {},
   "outputs": [
    {
     "name": "stdout",
     "output_type": "stream",
     "text": [
      "1/1 [==============================] - 0s 16ms/step\n"
     ]
    }
   ],
   "source": [
    "# Make predictions\n",
    "predictions = model.predict(X_test)\n",
    "\n",
    "# Inverse transform predictions to original scale\n",
    "predictions = scaler.inverse_transform(predictions)"
   ]
  },
  {
   "cell_type": "code",
   "execution_count": 28,
   "metadata": {},
   "outputs": [],
   "source": [
    "# Adjust the index ranges to match predictions and actual emissions\n",
    "actual_emissions = bangladesh_data.loc[1990:2019, 'GHG_Emissions'].values\n",
    "predicted_emissions_start_year = 1990 + (len(bangladesh_data) - len(predictions) - window_size)\n",
    "\n",
    "predicted_emissions = bangladesh_data.iloc[predicted_emissions_start_year:1990].values.flatten()\n",
    "predicted_emissions = np.concatenate([predicted_emissions, predictions.flatten()])\n",
    "predicted_emissions = predicted_emissions[:len(actual_emissions)]"
   ]
  },
  {
   "cell_type": "code",
   "execution_count": 29,
   "metadata": {},
   "outputs": [
    {
     "name": "stdout",
     "output_type": "stream",
     "text": [
      "Mean Absolute Error (MAE): 22.655567016601562\n",
      "Mean Squared Error (MSE): 1208.3767646212368\n",
      "Root Mean Squared Error (RMSE): 34.76171406333751\n",
      "Mean Absolute Percentage Error (MAPE): 0.14811517326467408\n",
      "R² Score: 0.34152266350962923\n",
      "Max Error: 85.0853271484375\n"
     ]
    }
   ],
   "source": [
    "# Calculate performance metrics\n",
    "mae = mean_absolute_error(actual_emissions, predicted_emissions)\n",
    "mse = mean_squared_error(actual_emissions, predicted_emissions)\n",
    "rmse = np.sqrt(mse)\n",
    "mape = mean_absolute_percentage_error(actual_emissions, predicted_emissions)\n",
    "r2 = r2_score(actual_emissions, predicted_emissions)\n",
    "max_err = max_error(actual_emissions, predicted_emissions)\n",
    "\n",
    "print('Mean Absolute Error (MAE):', mae)\n",
    "print('Mean Squared Error (MSE):', mse)\n",
    "print('Root Mean Squared Error (RMSE):', rmse)\n",
    "print('Mean Absolute Percentage Error (MAPE):', mape)\n",
    "print('R² Score:', r2)\n",
    "print('Max Error:', max_err)"
   ]
  },
  {
   "cell_type": "code",
   "execution_count": null,
   "metadata": {},
   "outputs": [],
   "source": [
    "# Define the metrics and their values\n",
    "metrics = ['MAE', 'MSE', 'RMSE', 'MAPE', 'R² Score', 'Max Error']\n",
    "values = [mae, mse, rmse, mape, r2, max_err]\n",
    "\n",
    "# Plotting the bar graph\n",
    "plt.figure(figsize=(10, 6))\n",
    "plt.bar(metrics, values, color=['blue', 'green', 'orange', 'red', 'purple', 'brown'])\n",
    "plt.xlabel('Performance Metrics')\n",
    "plt.ylabel('Metric Values')\n",
    "plt.title('Performance Metrics of the Hybrid WaveNet-TCN Model')\n",
    "plt.ylim([0, max(values) + 10])  # Adjust ylim for better visualization\n",
    "plt.grid(axis='y', linestyle='--', alpha=0.7)\n",
    "plt.xticks(rotation=45)\n",
    "plt.tight_layout()\n",
    "\n",
    "# Display the graph\n",
    "plt.show()"
   ]
  },
  {
   "cell_type": "code",
   "execution_count": 21,
   "metadata": {},
   "outputs": [
    {
     "data": {
      "image/png": "[encoded data removed]",
      "text/plain": [
       "<Figure size 1200x600 with 1 Axes>"
      ]
     },
     "metadata": {},
     "output_type": "display_data"
    }
   ],
   "source": [
    "# Plot the results\n",
    "plt.figure(figsize=(12, 6))\n",
    "plt.plot(range(1990, 2020), actual_emissions, label='Actual Emissions', marker='o')\n",
    "plt.plot(range(1990, 2020), predicted_emissions, label='CNN-LSTM Predicted Emissions', marker='x')\n",
    "plt.xlabel('Year')\n",
    "plt.ylabel('GHG Emissions (MtCO2e)')\n",
    "plt.title('Actual vs Predicted GHG Emissions of Bangladesh (1990-2022)')\n",
    "plt.legend()\n",
    "plt.show()"
   ]
  },
  {
   "cell_type": "markdown",
   "metadata": {},
   "source": [
    "# Next 10 years"
   ]
  },
  {
   "cell_type": "code",
   "execution_count": 5,
   "metadata": {},
   "outputs": [],
   "source": [
    "def create_dataset(data, time_step=1):\n",
    "    X, Y = [], []\n",
    "    for i in range(len(data)-time_step-1):\n",
    "        a = data[i:(i+time_step), 0]\n",
    "        X.append(a)\n",
    "        Y.append(data[i + time_step, 0])\n",
    "    return np.array(X), np.array(Y)\n",
    "\n",
    "time_step = 10\n",
    "X, y = create_dataset(normalized_data, time_step)\n",
    "\n",
    "# Reshape input to be [samples, time steps, features] which is required for TCN\n",
    "X = X.reshape(X.shape[0], X.shape[1], 1)"
   ]
  },
  {
   "cell_type": "markdown",
   "metadata": {},
   "source": [
    "# CNN"
   ]
  },
  {
   "cell_type": "code",
   "execution_count": 56,
   "metadata": {},
   "outputs": [],
   "source": [
    "# Create the CNN model\n",
    "model = Sequential()\n",
    "model.add(Conv1D(64, kernel_size=2, activation='relu', input_shape=(time_step, 1)))\n",
    "model.add(Flatten())\n",
    "model.add(Dense(1))\n",
    "\n",
    "model.compile(optimizer='adam', loss='mean_squared_error')"
   ]
  },
  {
   "cell_type": "markdown",
   "metadata": {},
   "source": [
    "# LSTM"
   ]
  },
  {
   "cell_type": "code",
   "execution_count": 50,
   "metadata": {},
   "outputs": [],
   "source": [
    "# Create the LSTM model\n",
    "model = Sequential()\n",
    "model.add(LSTM(50, return_sequences=False, input_shape=(time_step, 1)))\n",
    "# model.add(LSTM(50, return_sequences=False))\n",
    "model.add(Dense(1))\n",
    "\n",
    "model.compile(optimizer='adam', loss='mean_squared_error')"
   ]
  },
  {
   "cell_type": "markdown",
   "metadata": {},
   "source": [
    "# CNN-LSTM"
   ]
  },
  {
   "cell_type": "code",
   "execution_count": 17,
   "metadata": {},
   "outputs": [],
   "source": [
    "# Create the CNN-LSTM model\n",
    "model = Sequential()\n",
    "model.add(Conv1D(64, kernel_size=2, activation='relu', input_shape=(time_step, 1)))\n",
    "model.add(Conv1D(32, kernel_size=2, activation='relu'))\n",
    "model.add(LSTM(50, return_sequences=True))\n",
    "model.add(LSTM(50, return_sequences=False))\n",
    "model.add(Dense(1))\n",
    "\n",
    "model.compile(optimizer='adam', loss='mean_squared_error')"
   ]
  },
  {
   "cell_type": "markdown",
   "metadata": {},
   "source": [
    "# wavenet"
   ]
  },
  {
   "cell_type": "code",
   "execution_count": 6,
   "metadata": {},
   "outputs": [],
   "source": [
    "# Define WaveNet residual block\n",
    "def residual_block(x, dilation_rate):\n",
    "    r = Conv1D(64, kernel_size=2, dilation_rate=dilation_rate, padding='causal', activation='relu')(x)\n",
    "    r = Conv1D(64, kernel_size=2, dilation_rate=dilation_rate, padding='causal')(r)\n",
    "    r = Add()([x, r])\n",
    "    r = Activation('relu')(r)\n",
    "    return r\n",
    "\n",
    "# Define the hybrid WaveNet-TCN model\n",
    "input_layer = Input(shape=(time_step, 1))\n",
    "\n",
    "# Add WaveNet residual blocks\n",
    "wavenet_layer = residual_block(input_layer, 1)\n",
    "wavenet_layer = residual_block(wavenet_layer, 2)\n",
    "wavenet_layer = residual_block(wavenet_layer, 4)\n",
    "\n",
    "# Add TCN layer\n",
    "tcn_layer = TCN(128, dilations=[1, 2, 4], activation='relu', return_sequences=True)(wavenet_layer)\n",
    "tcn_layer = TCN(64, dilations=[1, 2, 4], activation='relu', return_sequences=False)(tcn_layer)\n",
    "\n",
    "# Add Dense layers\n",
    "dense_layer_1 = Dense(64, activation='relu')(tcn_layer)\n",
    "output_layer = Dense(1)(dense_layer_1)\n",
    "\n",
    "model = Model(inputs=input_layer, outputs=output_layer)\n",
    "model.compile(optimizer='adam', loss='mean_squared_error')"
   ]
  },
  {
   "cell_type": "code",
   "execution_count": 62,
   "metadata": {},
   "outputs": [
    {
     "name": "stdout",
     "output_type": "stream",
     "text": [
      "Epoch 1/50\n",
      "10/10 [==============================] - 0s 3ms/step - loss: 1.2632e-04\n",
      "Epoch 2/50\n",
      "10/10 [==============================] - 0s 2ms/step - loss: 1.2460e-04\n",
      "Epoch 3/50\n",
      "10/10 [==============================] - 0s 3ms/step - loss: 1.1846e-04\n",
      "Epoch 4/50\n",
      "10/10 [==============================] - 0s 2ms/step - loss: 1.1260e-04\n",
      "Epoch 5/50\n",
      "10/10 [==============================] - 0s 2ms/step - loss: 1.1834e-04\n",
      "Epoch 6/50\n",
      "10/10 [==============================] - 0s 2ms/step - loss: 1.1884e-04\n",
      "Epoch 7/50\n",
      "10/10 [==============================] - 0s 2ms/step - loss: 1.0830e-04\n",
      "Epoch 8/50\n",
      "10/10 [==============================] - 0s 2ms/step - loss: 1.1767e-04\n",
      "Epoch 9/50\n",
      "10/10 [==============================] - 0s 2ms/step - loss: 1.1008e-04\n",
      "Epoch 10/50\n",
      "10/10 [==============================] - 0s 2ms/step - loss: 1.0676e-04\n",
      "Epoch 11/50\n",
      "10/10 [==============================] - 0s 2ms/step - loss: 1.0860e-04\n",
      "Epoch 12/50\n",
      "10/10 [==============================] - 0s 2ms/step - loss: 1.0857e-04\n",
      "Epoch 13/50\n",
      "10/10 [==============================] - 0s 2ms/step - loss: 1.1993e-04\n",
      "Epoch 14/50\n",
      "10/10 [==============================] - 0s 2ms/step - loss: 1.0729e-04\n",
      "Epoch 15/50\n",
      "10/10 [==============================] - 0s 2ms/step - loss: 1.0207e-04\n",
      "Epoch 16/50\n",
      "10/10 [==============================] - 0s 2ms/step - loss: 9.7949e-05\n",
      "Epoch 17/50\n",
      "10/10 [==============================] - 0s 2ms/step - loss: 9.8854e-05\n",
      "Epoch 18/50\n",
      "10/10 [==============================] - 0s 2ms/step - loss: 1.0003e-04\n",
      "Epoch 19/50\n",
      "10/10 [==============================] - 0s 2ms/step - loss: 1.0186e-04\n",
      "Epoch 20/50\n",
      "10/10 [==============================] - 0s 2ms/step - loss: 9.5278e-05\n",
      "Epoch 21/50\n",
      "10/10 [==============================] - 0s 2ms/step - loss: 1.0089e-04\n",
      "Epoch 22/50\n",
      "10/10 [==============================] - 0s 2ms/step - loss: 1.0744e-04\n",
      "Epoch 23/50\n",
      "10/10 [==============================] - 0s 3ms/step - loss: 9.7807e-05\n",
      "Epoch 24/50\n",
      "10/10 [==============================] - 0s 2ms/step - loss: 9.5685e-05\n",
      "Epoch 25/50\n",
      "10/10 [==============================] - 0s 2ms/step - loss: 9.0266e-05\n",
      "Epoch 26/50\n",
      "10/10 [==============================] - 0s 2ms/step - loss: 8.9890e-05\n",
      "Epoch 27/50\n",
      "10/10 [==============================] - 0s 2ms/step - loss: 9.1685e-05\n",
      "Epoch 28/50\n",
      "10/10 [==============================] - 0s 3ms/step - loss: 9.2754e-05\n",
      "Epoch 29/50\n",
      "10/10 [==============================] - 0s 2ms/step - loss: 8.9966e-05\n",
      "Epoch 30/50\n",
      "10/10 [==============================] - 0s 2ms/step - loss: 9.2297e-05\n",
      "Epoch 31/50\n",
      "10/10 [==============================] - 0s 2ms/step - loss: 9.2947e-05\n",
      "Epoch 32/50\n",
      "10/10 [==============================] - 0s 2ms/step - loss: 9.2442e-05\n",
      "Epoch 33/50\n",
      "10/10 [==============================] - 0s 2ms/step - loss: 9.0028e-05\n",
      "Epoch 34/50\n",
      "10/10 [==============================] - 0s 2ms/step - loss: 8.8351e-05\n",
      "Epoch 35/50\n",
      "10/10 [==============================] - 0s 2ms/step - loss: 8.2133e-05\n",
      "Epoch 36/50\n",
      "10/10 [==============================] - 0s 2ms/step - loss: 8.3420e-05\n",
      "Epoch 37/50\n",
      "10/10 [==============================] - 0s 2ms/step - loss: 8.3250e-05\n",
      "Epoch 38/50\n",
      "10/10 [==============================] - 0s 2ms/step - loss: 7.9882e-05\n",
      "Epoch 39/50\n",
      "10/10 [==============================] - 0s 2ms/step - loss: 8.2693e-05\n",
      "Epoch 40/50\n",
      "10/10 [==============================] - 0s 2ms/step - loss: 7.9333e-05\n",
      "Epoch 41/50\n",
      "10/10 [==============================] - 0s 2ms/step - loss: 8.8626e-05\n",
      "Epoch 42/50\n",
      "10/10 [==============================] - 0s 2ms/step - loss: 8.1481e-05\n",
      "Epoch 43/50\n",
      "10/10 [==============================] - 0s 2ms/step - loss: 8.5342e-05\n",
      "Epoch 44/50\n",
      "10/10 [==============================] - 0s 2ms/step - loss: 8.0356e-05\n",
      "Epoch 45/50\n",
      "10/10 [==============================] - 0s 2ms/step - loss: 7.5930e-05\n",
      "Epoch 46/50\n",
      "10/10 [==============================] - 0s 2ms/step - loss: 7.4699e-05\n",
      "Epoch 47/50\n",
      "10/10 [==============================] - 0s 2ms/step - loss: 7.3358e-05\n",
      "Epoch 48/50\n",
      "10/10 [==============================] - 0s 2ms/step - loss: 7.7673e-05\n",
      "Epoch 49/50\n",
      "10/10 [==============================] - 0s 2ms/step - loss: 7.2738e-05\n",
      "Epoch 50/50\n",
      "10/10 [==============================] - 0s 2ms/step - loss: 7.6592e-05\n"
     ]
    },
    {
     "data": {
      "text/plain": [
       "<keras.callbacks.History at 0x29d2b117a00>"
      ]
     },
     "execution_count": 62,
     "metadata": {},
     "output_type": "execute_result"
    }
   ],
   "source": [
    "# Train the model\n",
    "model.fit(X, y, epochs=50, batch_size=16, verbose=1)"
   ]
  },
  {
   "cell_type": "code",
   "execution_count": 63,
   "metadata": {},
   "outputs": [
    {
     "name": "stdout",
     "output_type": "stream",
     "text": [
      "1/1 [==============================] - 0s 14ms/step\n",
      "1/1 [==============================] - 0s 16ms/step\n",
      "1/1 [==============================] - 0s 16ms/step\n",
      "1/1 [==============================] - 0s 15ms/step\n",
      "1/1 [==============================] - 0s 15ms/step\n",
      "1/1 [==============================] - 0s 18ms/step\n",
      "1/1 [==============================] - 0s 15ms/step\n",
      "1/1 [==============================] - 0s 14ms/step\n",
      "1/1 [==============================] - 0s 14ms/step\n",
      "1/1 [==============================] - 0s 14ms/step\n",
      "1/1 [==============================] - 0s 15ms/step\n",
      "[201.59423828125, 209.44508361816406, 218.01280212402344, 226.3288116455078, 233.8983612060547, 242.8125762939453, 251.5909423828125, 260.831787109375, 269.8047790527344, 279.4702453613281, 289.1580810546875]\n"
     ]
    }
   ],
   "source": [
    "# Make predictions for the next 10 years (2020-2030)\n",
    "predictions = []\n",
    "input_seq = normalized_data[-time_step:].reshape(1, time_step, 1)\n",
    "\n",
    "for _ in range(11):\n",
    "    next_pred = model.predict(input_seq)\n",
    "    predictions.append(next_pred[0, 0])\n",
    "    input_seq = np.append(input_seq[:, 1:, :], next_pred.reshape(1, 1, 1), axis=1)\n",
    "\n",
    "# Inverse transform the predictions\n",
    "predicted_emissions = scaler.inverse_transform(np.array(predictions).reshape(-1, 1))\n",
    "print(predicted_emissions.flatten().tolist())"
   ]
  },
  {
   "cell_type": "code",
   "execution_count": 64,
   "metadata": {},
   "outputs": [
    {
     "name": "stdout",
     "output_type": "stream",
     "text": [
      "Year   Predicted GHG Emissions (MtCO2e)\n",
      "------------------------------------\n",
      "2020   201.59                        \n",
      "2021   209.45                        \n",
      "2022   218.01                        \n",
      "2023   226.33                        \n",
      "2024   233.90                        \n",
      "2025   242.81                        \n",
      "2026   251.59                        \n",
      "2027   260.83                        \n",
      "2028   269.80                        \n",
      "2029   279.47                        \n",
      "2030   289.16                        \n"
     ]
    }
   ],
   "source": [
    "# Print the predictions for the years 2020-2030\n",
    "years = list(range(2020, 2031))\n",
    "predicted_values = predicted_emissions.flatten().tolist()\n",
    "\n",
    "# Print table header\n",
    "print(f\"{'Year':<6} {'Predicted GHG Emissions (MtCO2e)':<30}\")\n",
    "print(\"-\" * 36)\n",
    "\n",
    "# Print each year and corresponding prediction\n",
    "for year, value in zip(years, predicted_values):\n",
    "    print(f\"{year:<6} {value:<30.2f}\")"
   ]
  },
  {
   "cell_type": "code",
   "execution_count": 65,
   "metadata": {},
   "outputs": [],
   "source": [
    "# Create a DataFrame for actual and predicted emissions\n",
    "actual_emissions = bangladesh_data['GHG_Emissions'].values\n",
    "years = np.arange(1850, 2020)\n",
    "\n",
    "predicted_years = np.arange(2020, 2031)\n",
    "predicted_emissions_df = pd.DataFrame(data=predicted_emissions, index=predicted_years, columns=['Predicted_GHG_Emissions'])\n"
   ]
  },
  {
   "cell_type": "code",
   "execution_count": 66,
   "metadata": {},
   "outputs": [
    {
     "data": {
      "image/png": "[encoded data removed]",
      "text/plain": [
       "<Figure size 1200x600 with 1 Axes>"
      ]
     },
     "metadata": {},
     "output_type": "display_data"
    }
   ],
   "source": [
    "# Plot the actual vs. predicted emissions\n",
    "plt.figure(figsize=(12, 6))\n",
    "plt.plot(years, actual_emissions, label='Actual Emissions')\n",
    "plt.plot(predicted_years, predicted_emissions_df['Predicted_GHG_Emissions'], label='Predicted CNN Emissions', linestyle='--')\n",
    "plt.xlabel('Year')\n",
    "plt.ylabel('GHG Emissions (MtCO2e)')\n",
    "plt.title('Predicted GHG Emissions for Bangladesh (2020-2030)')\n",
    "plt.legend()\n",
    "plt.show()"
   ]
  }
 ],
 "metadata": {
  "kernelspec": {
   "display_name": "py310",
   "language": "python",
   "name": "python3"
  },
  "language_info": {
   "codemirror_mode": {
    "name": "ipython",
    "version": 3
   },
   "file_extension": ".py",
   "mimetype": "text/x-python",
   "name": "python",
   "nbconvert_exporter": "python",
   "pygments_lexer": "ipython3",
   "version": "3.10.14"
  }
 },
 "nbformat": 4,
 "nbformat_minor": 2
}
