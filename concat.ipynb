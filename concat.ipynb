{
 "cells": [
  {
   "cell_type": "code",
   "execution_count": 2,
   "metadata": {},
   "outputs": [],
   "source": [
    "import pandas as pd\n",
    "import numpy as np\n",
    "import plotly.express as px"
   ]
  },
  {
   "cell_type": "code",
   "execution_count": 16,
   "metadata": {},
   "outputs": [
    {
     "name": "stdout",
     "output_type": "stream",
     "text": [
      "                                                 title  \\\n",
      "0                             upgrade itext dependency   \n",
      "1                             upgrade itext dependency   \n",
      "2                             upgrade itext dependency   \n",
      "3                             upgrade itext dependency   \n",
      "4                             upgrade itext dependency   \n",
      "..                                                 ...   \n",
      "560                  Can't Export PDF, XLS in JRViewer   \n",
      "561                  Can't Export PDF, XLS in JRViewer   \n",
      "562                  Can't Export PDF, XLS in JRViewer   \n",
      "563  Export to PDFs takes significant longer time c...   \n",
      "564  Export to PDFs takes significant longer time c...   \n",
      "\n",
      "                                              comments  \n",
      "0    Hi,\\nYou are probably aware that since version...  \n",
      "1    What about using version 4.2.2?\\n<!-- https://...  \n",
      "2    @teodord\\n\\nInterested in an PdfBox Implementa...  \n",
      "3    FYI: I recently got to know about the OpenPDF ...  \n",
      "4    For the core JRL distro, we use our own iText ...  \n",
      "..                                                 ...  \n",
      "560  Include jasperreports-pdf and jasperreports-ex...  \n",
      "561  thank you @dadza , and i want to try recompile...  \n",
      "562  Jaspersoft Studio 7 does not support opening *...  \n",
      "563  I don't know how to answer your question, but ...  \n",
      "564  Sorry for the silly question. I would try if t...  \n",
      "\n",
      "[565 rows x 2 columns]\n"
     ]
    }
   ],
   "source": [
    "df = pd.read_csv('github-scrapper.csv')\n",
    "# Strip leading/trailing spaces (if any) from column names\n",
    "df.columns = df.columns.str.strip()\n",
    "\n",
    "# Now try to drop the columns again\n",
    "df = df.drop(['web-scraper-order', 'web-scraper-start-url', 'links', 'links-href', 'pages', 'pages-href'], axis=1)\n",
    "\n",
    "# Display the updated DataFrame\n",
    "print(df)\n"
   ]
  },
  {
   "cell_type": "code",
   "execution_count": 17,
   "metadata": {},
   "outputs": [],
   "source": [
    "df.to_csv('github-scrapper2.csv', index=False)"
   ]
  },
  {
   "cell_type": "code",
   "execution_count": 14,
   "metadata": {},
   "outputs": [
    {
     "name": "stdout",
     "output_type": "stream",
     "text": [
      "    web-scraper-order                              web-scraper-start-url  \\\n",
      "0        1726468175-1  https://github.com/TIBCOSoftware/jasperreports...   \n",
      "1        1726468175-2  https://github.com/TIBCOSoftware/jasperreports...   \n",
      "2        1726468175-3  https://github.com/TIBCOSoftware/jasperreports...   \n",
      "3        1726468175-4  https://github.com/TIBCOSoftware/jasperreports...   \n",
      "4        1726468175-5  https://github.com/TIBCOSoftware/jasperreports...   \n",
      "..                ...                                                ...   \n",
      "560    1726470653-561  https://github.com/TIBCOSoftware/jasperreports...   \n",
      "561    1726470653-562  https://github.com/TIBCOSoftware/jasperreports...   \n",
      "562    1726470653-563  https://github.com/TIBCOSoftware/jasperreports...   \n",
      "563    1726470668-564  https://github.com/TIBCOSoftware/jasperreports...   \n",
      "564    1726470668-565  https://github.com/TIBCOSoftware/jasperreports...   \n",
      "\n",
      "                                                 links  \\\n",
      "0                             upgrade itext dependency   \n",
      "1                             upgrade itext dependency   \n",
      "2                             upgrade itext dependency   \n",
      "3                             upgrade itext dependency   \n",
      "4                             upgrade itext dependency   \n",
      "..                                                 ...   \n",
      "560                  Can't Export PDF, XLS in JRViewer   \n",
      "561                  Can't Export PDF, XLS in JRViewer   \n",
      "562                  Can't Export PDF, XLS in JRViewer   \n",
      "563  Export to PDFs takes significant longer time c...   \n",
      "564  Export to PDFs takes significant longer time c...   \n",
      "\n",
      "                                            links-href  \\\n",
      "0    https://github.com/TIBCOSoftware/jasperreports...   \n",
      "1    https://github.com/TIBCOSoftware/jasperreports...   \n",
      "2    https://github.com/TIBCOSoftware/jasperreports...   \n",
      "3    https://github.com/TIBCOSoftware/jasperreports...   \n",
      "4    https://github.com/TIBCOSoftware/jasperreports...   \n",
      "..                                                 ...   \n",
      "560  https://github.com/TIBCOSoftware/jasperreports...   \n",
      "561  https://github.com/TIBCOSoftware/jasperreports...   \n",
      "562  https://github.com/TIBCOSoftware/jasperreports...   \n",
      "563  https://github.com/TIBCOSoftware/jasperreports...   \n",
      "564  https://github.com/TIBCOSoftware/jasperreports...   \n",
      "\n",
      "                                                 title  \\\n",
      "0                             upgrade itext dependency   \n",
      "1                             upgrade itext dependency   \n",
      "2                             upgrade itext dependency   \n",
      "3                             upgrade itext dependency   \n",
      "4                             upgrade itext dependency   \n",
      "..                                                 ...   \n",
      "560                  Can't Export PDF, XLS in JRViewer   \n",
      "561                  Can't Export PDF, XLS in JRViewer   \n",
      "562                  Can't Export PDF, XLS in JRViewer   \n",
      "563  Export to PDFs takes significant longer time c...   \n",
      "564  Export to PDFs takes significant longer time c...   \n",
      "\n",
      "                                              comments  pages  \\\n",
      "0    Hi,\\nYou are probably aware that since version...   15.0   \n",
      "1    What about using version 4.2.2?\\n<!-- https://...   15.0   \n",
      "2    @teodord\\n\\nInterested in an PdfBox Implementa...   15.0   \n",
      "3    FYI: I recently got to know about the OpenPDF ...   15.0   \n",
      "4    For the core JRL distro, we use our own iText ...   15.0   \n",
      "..                                                 ...    ...   \n",
      "560  Include jasperreports-pdf and jasperreports-ex...    NaN   \n",
      "561  thank you @dadza , and i want to try recompile...    NaN   \n",
      "562  Jaspersoft Studio 7 does not support opening *...    NaN   \n",
      "563  I don't know how to answer your question, but ...    NaN   \n",
      "564  Sorry for the silly question. I would try if t...    NaN   \n",
      "\n",
      "                                            pages-href  \n",
      "0    https://github.com/TIBCOSoftware/jasperreports...  \n",
      "1    https://github.com/TIBCOSoftware/jasperreports...  \n",
      "2    https://github.com/TIBCOSoftware/jasperreports...  \n",
      "3    https://github.com/TIBCOSoftware/jasperreports...  \n",
      "4    https://github.com/TIBCOSoftware/jasperreports...  \n",
      "..                                                 ...  \n",
      "560                                                NaN  \n",
      "561                                                NaN  \n",
      "562                                                NaN  \n",
      "563                                                NaN  \n",
      "564                                                NaN  \n",
      "\n",
      "[565 rows x 8 columns]\n"
     ]
    }
   ],
   "source": [
    "dataFrame2 = pd.read_csv('github-scrapper.csv')\n",
    "dataFrame2.drop(['web-scraper-order', 'web-scraper-start-url', 'links', 'links-href', 'pages', 'pages-href'], axis=1)\n",
    "print(dataFrame2)"
   ]
  },
  {
   "cell_type": "code",
   "execution_count": null,
   "metadata": {},
   "outputs": [],
   "source": []
  },
  {
   "cell_type": "code",
   "execution_count": 127,
   "metadata": {},
   "outputs": [
    {
     "data": {
      "text/html": [
       "<div>\n",
       "<style scoped>\n",
       "    .dataframe tbody tr th:only-of-type {\n",
       "        vertical-align: middle;\n",
       "    }\n",
       "\n",
       "    .dataframe tbody tr th {\n",
       "        vertical-align: top;\n",
       "    }\n",
       "\n",
       "    .dataframe thead th {\n",
       "        text-align: right;\n",
       "    }\n",
       "</style>\n",
       "<table border=\"1\" class=\"dataframe\">\n",
       "  <thead>\n",
       "    <tr style=\"text-align: right;\">\n",
       "      <th></th>\n",
       "      <th>title</th>\n",
       "      <th>text</th>\n",
       "      <th>label</th>\n",
       "    </tr>\n",
       "  </thead>\n",
       "  <tbody>\n",
       "    <tr>\n",
       "      <th>72124</th>\n",
       "      <td>An Unlikely Contender Rises in France as the A...</td>\n",
       "      <td>PARIS  —   In the age of Donald J. Trump, “Bre...</td>\n",
       "      <td>FAKE</td>\n",
       "    </tr>\n",
       "    <tr>\n",
       "      <th>72125</th>\n",
       "      <td>WOW! JILL STEIN’S ‘FIRESIDE CHAT’ Exposes Her ...</td>\n",
       "      <td></td>\n",
       "      <td>REAL</td>\n",
       "    </tr>\n",
       "    <tr>\n",
       "      <th>72126</th>\n",
       "      <td>Determined to kill: Can tough gun laws end mas...</td>\n",
       "      <td>The flag at Desert Hot Springs' Condor Gun Sho...</td>\n",
       "      <td>FAKE</td>\n",
       "    </tr>\n",
       "    <tr>\n",
       "      <th>72127</th>\n",
       "      <td>WIKILEAKS EMAIL SHOWS CLINTON FOUNDATION FUNDS...</td>\n",
       "      <td>An email released by WikiLeaks on Sunday appea...</td>\n",
       "      <td>REAL</td>\n",
       "    </tr>\n",
       "    <tr>\n",
       "      <th>72128</th>\n",
       "      <td>JUDGE JEANINE SOUNDS FREE SPEECH ALARM: “They ...</td>\n",
       "      <td>Judge Jeanine lets it rip! She s concerned wit...</td>\n",
       "      <td>REAL</td>\n",
       "    </tr>\n",
       "    <tr>\n",
       "      <th>72129</th>\n",
       "      <td>Russians steal research on Trump in hack of U....</td>\n",
       "      <td>WASHINGTON (Reuters) - Hackers believed to be ...</td>\n",
       "      <td>FAKE</td>\n",
       "    </tr>\n",
       "    <tr>\n",
       "      <th>72130</th>\n",
       "      <td>WATCH: Giuliani Demands That Democrats Apolog...</td>\n",
       "      <td>You know, because in fantasyland Republicans n...</td>\n",
       "      <td>REAL</td>\n",
       "    </tr>\n",
       "    <tr>\n",
       "      <th>72131</th>\n",
       "      <td>Migrants Refuse To Leave Train At Refugee Camp...</td>\n",
       "      <td>Migrants Refuse To Leave Train At Refugee Camp...</td>\n",
       "      <td>FAKE</td>\n",
       "    </tr>\n",
       "    <tr>\n",
       "      <th>72132</th>\n",
       "      <td>Trump tussle gives unpopular Mexican leader mu...</td>\n",
       "      <td>MEXICO CITY (Reuters) - Donald Trump’s combati...</td>\n",
       "      <td>FAKE</td>\n",
       "    </tr>\n",
       "    <tr>\n",
       "      <th>72133</th>\n",
       "      <td>Goldman Sachs Endorses Hillary Clinton For Pre...</td>\n",
       "      <td>Goldman Sachs Endorses Hillary Clinton For Pre...</td>\n",
       "      <td>REAL</td>\n",
       "    </tr>\n",
       "  </tbody>\n",
       "</table>\n",
       "</div>"
      ],
      "text/plain": [
       "                                                   title  \\\n",
       "72124  An Unlikely Contender Rises in France as the A...   \n",
       "72125  WOW! JILL STEIN’S ‘FIRESIDE CHAT’ Exposes Her ...   \n",
       "72126  Determined to kill: Can tough gun laws end mas...   \n",
       "72127  WIKILEAKS EMAIL SHOWS CLINTON FOUNDATION FUNDS...   \n",
       "72128  JUDGE JEANINE SOUNDS FREE SPEECH ALARM: “They ...   \n",
       "72129  Russians steal research on Trump in hack of U....   \n",
       "72130   WATCH: Giuliani Demands That Democrats Apolog...   \n",
       "72131  Migrants Refuse To Leave Train At Refugee Camp...   \n",
       "72132  Trump tussle gives unpopular Mexican leader mu...   \n",
       "72133  Goldman Sachs Endorses Hillary Clinton For Pre...   \n",
       "\n",
       "                                                    text label  \n",
       "72124  PARIS  —   In the age of Donald J. Trump, “Bre...  FAKE  \n",
       "72125                                                     REAL  \n",
       "72126  The flag at Desert Hot Springs' Condor Gun Sho...  FAKE  \n",
       "72127  An email released by WikiLeaks on Sunday appea...  REAL  \n",
       "72128  Judge Jeanine lets it rip! She s concerned wit...  REAL  \n",
       "72129  WASHINGTON (Reuters) - Hackers believed to be ...  FAKE  \n",
       "72130  You know, because in fantasyland Republicans n...  REAL  \n",
       "72131  Migrants Refuse To Leave Train At Refugee Camp...  FAKE  \n",
       "72132  MEXICO CITY (Reuters) - Donald Trump’s combati...  FAKE  \n",
       "72133  Goldman Sachs Endorses Hillary Clinton For Pre...  REAL  "
      ]
     },
     "execution_count": 127,
     "metadata": {},
     "output_type": "execute_result"
    }
   ],
   "source": [
    "dataFrame1 = pd.read_csv('modified_dataset.csv')\n",
    "dataFrame1.tail(10)"
   ]
  },
  {
   "cell_type": "code",
   "execution_count": 128,
   "metadata": {},
   "outputs": [],
   "source": [
    "concatenated_rows = pd.concat([dataFrame1, dataFrame2])\n",
    "concatenated_rows.to_csv('Welfake_politifact_modified.csv', index=False)"
   ]
  },
  {
   "cell_type": "code",
   "execution_count": 130,
   "metadata": {},
   "outputs": [
    {
     "data": {
      "text/html": [
       "<div>\n",
       "<style scoped>\n",
       "    .dataframe tbody tr th:only-of-type {\n",
       "        vertical-align: middle;\n",
       "    }\n",
       "\n",
       "    .dataframe tbody tr th {\n",
       "        vertical-align: top;\n",
       "    }\n",
       "\n",
       "    .dataframe thead th {\n",
       "        text-align: right;\n",
       "    }\n",
       "</style>\n",
       "<table border=\"1\" class=\"dataframe\">\n",
       "  <thead>\n",
       "    <tr style=\"text-align: right;\">\n",
       "      <th></th>\n",
       "      <th>title</th>\n",
       "      <th>text</th>\n",
       "      <th>label</th>\n",
       "    </tr>\n",
       "  </thead>\n",
       "  <tbody>\n",
       "    <tr>\n",
       "      <th>93447</th>\n",
       "      <td>NaN</td>\n",
       "      <td>\"I fought to bring about the largest private-s...</td>\n",
       "      <td>REAL</td>\n",
       "    </tr>\n",
       "    <tr>\n",
       "      <th>93448</th>\n",
       "      <td>NaN</td>\n",
       "      <td>\"When George Bush said we shouldn't investigat...</td>\n",
       "      <td>REAL</td>\n",
       "    </tr>\n",
       "    <tr>\n",
       "      <th>93449</th>\n",
       "      <td>NaN</td>\n",
       "      <td>Sarah Palin was repeating \"Abraham Lincoln's w...</td>\n",
       "      <td>REAL</td>\n",
       "    </tr>\n",
       "    <tr>\n",
       "      <th>93450</th>\n",
       "      <td>NaN</td>\n",
       "      <td>\"He admits he still doesn't know how to use a ...</td>\n",
       "      <td>REAL</td>\n",
       "    </tr>\n",
       "    <tr>\n",
       "      <th>93451</th>\n",
       "      <td>NaN</td>\n",
       "      <td>Obama's one education accomplishment was \"legi...</td>\n",
       "      <td>FAKE</td>\n",
       "    </tr>\n",
       "  </tbody>\n",
       "</table>\n",
       "</div>"
      ],
      "text/plain": [
       "      title                                               text label\n",
       "93447   NaN  \"I fought to bring about the largest private-s...  REAL\n",
       "93448   NaN  \"When George Bush said we shouldn't investigat...  REAL\n",
       "93449   NaN  Sarah Palin was repeating \"Abraham Lincoln's w...  REAL\n",
       "93450   NaN  \"He admits he still doesn't know how to use a ...  REAL\n",
       "93451   NaN  Obama's one education accomplishment was \"legi...  FAKE"
      ]
     },
     "execution_count": 130,
     "metadata": {},
     "output_type": "execute_result"
    }
   ],
   "source": [
    "data = pd.read_csv('Welfake_politifact_modified.csv')\n",
    "data.tail()"
   ]
  },
  {
   "cell_type": "code",
   "execution_count": 131,
   "metadata": {},
   "outputs": [
    {
     "data": {
      "text/html": [
       "<div>\n",
       "<style scoped>\n",
       "    .dataframe tbody tr th:only-of-type {\n",
       "        vertical-align: middle;\n",
       "    }\n",
       "\n",
       "    .dataframe tbody tr th {\n",
       "        vertical-align: top;\n",
       "    }\n",
       "\n",
       "    .dataframe thead th {\n",
       "        text-align: right;\n",
       "    }\n",
       "</style>\n",
       "<table border=\"1\" class=\"dataframe\">\n",
       "  <thead>\n",
       "    <tr style=\"text-align: right;\">\n",
       "      <th></th>\n",
       "      <th>title</th>\n",
       "      <th>text</th>\n",
       "      <th>label</th>\n",
       "    </tr>\n",
       "  </thead>\n",
       "  <tbody>\n",
       "    <tr>\n",
       "      <th>93447</th>\n",
       "      <td></td>\n",
       "      <td>\"I fought to bring about the largest private-s...</td>\n",
       "      <td>REAL</td>\n",
       "    </tr>\n",
       "    <tr>\n",
       "      <th>93448</th>\n",
       "      <td></td>\n",
       "      <td>\"When George Bush said we shouldn't investigat...</td>\n",
       "      <td>REAL</td>\n",
       "    </tr>\n",
       "    <tr>\n",
       "      <th>93449</th>\n",
       "      <td></td>\n",
       "      <td>Sarah Palin was repeating \"Abraham Lincoln's w...</td>\n",
       "      <td>REAL</td>\n",
       "    </tr>\n",
       "    <tr>\n",
       "      <th>93450</th>\n",
       "      <td></td>\n",
       "      <td>\"He admits he still doesn't know how to use a ...</td>\n",
       "      <td>REAL</td>\n",
       "    </tr>\n",
       "    <tr>\n",
       "      <th>93451</th>\n",
       "      <td></td>\n",
       "      <td>Obama's one education accomplishment was \"legi...</td>\n",
       "      <td>FAKE</td>\n",
       "    </tr>\n",
       "  </tbody>\n",
       "</table>\n",
       "</div>"
      ],
      "text/plain": [
       "      title                                               text label\n",
       "93447        \"I fought to bring about the largest private-s...  REAL\n",
       "93448        \"When George Bush said we shouldn't investigat...  REAL\n",
       "93449        Sarah Palin was repeating \"Abraham Lincoln's w...  REAL\n",
       "93450        \"He admits he still doesn't know how to use a ...  REAL\n",
       "93451        Obama's one education accomplishment was \"legi...  FAKE"
      ]
     },
     "execution_count": 131,
     "metadata": {},
     "output_type": "execute_result"
    }
   ],
   "source": [
    "data.fillna(' ', inplace=True)\n",
    "data.tail()"
   ]
  },
  {
   "cell_type": "code",
   "execution_count": 132,
   "metadata": {},
   "outputs": [
    {
     "data": {
      "text/plain": [
       "title    0\n",
       "text     0\n",
       "label    0\n",
       "dtype: int64"
      ]
     },
     "execution_count": 132,
     "metadata": {},
     "output_type": "execute_result"
    }
   ],
   "source": [
    "data.isnull().sum()"
   ]
  },
  {
   "cell_type": "code",
   "execution_count": 135,
   "metadata": {},
   "outputs": [],
   "source": [
    "data.to_csv('Welfake_politifact_modified.csv', index=False)"
   ]
  },
  {
   "cell_type": "code",
   "execution_count": 118,
   "metadata": {},
   "outputs": [
    {
     "data": {
      "text/html": [
       "<div>\n",
       "<style scoped>\n",
       "    .dataframe tbody tr th:only-of-type {\n",
       "        vertical-align: middle;\n",
       "    }\n",
       "\n",
       "    .dataframe tbody tr th {\n",
       "        vertical-align: top;\n",
       "    }\n",
       "\n",
       "    .dataframe thead th {\n",
       "        text-align: right;\n",
       "    }\n",
       "</style>\n",
       "<table border=\"1\" class=\"dataframe\">\n",
       "  <thead>\n",
       "    <tr style=\"text-align: right;\">\n",
       "      <th></th>\n",
       "      <th>text</th>\n",
       "      <th>label</th>\n",
       "    </tr>\n",
       "  </thead>\n",
       "  <tbody>\n",
       "    <tr>\n",
       "      <th>970657</th>\n",
       "      <td>clinton campaign uses noise machine to block r...</td>\n",
       "      <td>REAL</td>\n",
       "    </tr>\n",
       "    <tr>\n",
       "      <th>970658</th>\n",
       "      <td>a squirrels imprint in wet concrete</td>\n",
       "      <td>REAL</td>\n",
       "    </tr>\n",
       "    <tr>\n",
       "      <th>970659</th>\n",
       "      <td>he keeps an eye on the burner whilst i cook</td>\n",
       "      <td>FAKE</td>\n",
       "    </tr>\n",
       "    <tr>\n",
       "      <th>970660</th>\n",
       "      <td>video game kingpin super mario is finally capt...</td>\n",
       "      <td>FAKE</td>\n",
       "    </tr>\n",
       "    <tr>\n",
       "      <th>970661</th>\n",
       "      <td>mrg</td>\n",
       "      <td>FAKE</td>\n",
       "    </tr>\n",
       "  </tbody>\n",
       "</table>\n",
       "</div>"
      ],
      "text/plain": [
       "                                                     text label\n",
       "970657  clinton campaign uses noise machine to block r...  REAL\n",
       "970658                a squirrels imprint in wet concrete  REAL\n",
       "970659        he keeps an eye on the burner whilst i cook  FAKE\n",
       "970660  video game kingpin super mario is finally capt...  FAKE\n",
       "970661                                                mrg  FAKE"
      ]
     },
     "execution_count": 118,
     "metadata": {},
     "output_type": "execute_result"
    }
   ],
   "source": [
    "# Specify columns to drop\n",
    "columns_to_drop = ['Unnamed: 0.2', 'Unnamed: 0', 'Unnamed: 0.1', 'Unnamed: 0.1.1', 'author', \n",
    "                   'created_utc', 'domain', 'hasImage', 'id', 'image_url', 'linked_submission_id', \n",
    "                   'num_comments', 'score', 'subreddit', 'title', 'upvote_ratio', '3_way_label', '6_way_label']\n",
    "\n",
    "# Drop specified columns\n",
    "data.drop(columns_to_drop, axis=1, inplace=True)\n",
    "\n",
    "# Rename columns\n",
    "data.rename(columns={'clean_title': 'text', '2_way_label': 'label'}, inplace=True)\n",
    "\n",
    "# Replace values in the 'label' column\n",
    "data['label'] = data['label'].replace({0: 'FAKE', 1: 'REAL'})\n",
    "data.to_csv('fakeddit_dataset.csv', index=False)\n",
    "data.tail()"
   ]
  },
  {
   "cell_type": "code",
   "execution_count": 105,
   "metadata": {},
   "outputs": [
    {
     "data": {
      "text/html": [
       "<div>\n",
       "<style scoped>\n",
       "    .dataframe tbody tr th:only-of-type {\n",
       "        vertical-align: middle;\n",
       "    }\n",
       "\n",
       "    .dataframe tbody tr th {\n",
       "        vertical-align: top;\n",
       "    }\n",
       "\n",
       "    .dataframe thead th {\n",
       "        text-align: right;\n",
       "    }\n",
       "</style>\n",
       "<table border=\"1\" class=\"dataframe\">\n",
       "  <thead>\n",
       "    <tr style=\"text-align: right;\">\n",
       "      <th></th>\n",
       "      <th>news</th>\n",
       "      <th>label</th>\n",
       "    </tr>\n",
       "  </thead>\n",
       "  <tbody>\n",
       "    <tr>\n",
       "      <th>21313</th>\n",
       "      <td>\"I fought to bring about the largest private-s...</td>\n",
       "      <td>REAL</td>\n",
       "    </tr>\n",
       "    <tr>\n",
       "      <th>21314</th>\n",
       "      <td>\"When George Bush said we shouldn't investigat...</td>\n",
       "      <td>REAL</td>\n",
       "    </tr>\n",
       "    <tr>\n",
       "      <th>21315</th>\n",
       "      <td>Sarah Palin was repeating \"Abraham Lincoln's w...</td>\n",
       "      <td>REAL</td>\n",
       "    </tr>\n",
       "    <tr>\n",
       "      <th>21316</th>\n",
       "      <td>\"He admits he still doesn't know how to use a ...</td>\n",
       "      <td>REAL</td>\n",
       "    </tr>\n",
       "    <tr>\n",
       "      <th>21317</th>\n",
       "      <td>Obama's one education accomplishment was \"legi...</td>\n",
       "      <td>FAKE</td>\n",
       "    </tr>\n",
       "  </tbody>\n",
       "</table>\n",
       "</div>"
      ],
      "text/plain": [
       "                                                    news label\n",
       "21313  \"I fought to bring about the largest private-s...  REAL\n",
       "21314  \"When George Bush said we shouldn't investigat...  REAL\n",
       "21315  Sarah Palin was repeating \"Abraham Lincoln's w...  REAL\n",
       "21316  \"He admits he still doesn't know how to use a ...  REAL\n",
       "21317  Obama's one education accomplishment was \"legi...  FAKE"
      ]
     },
     "execution_count": 105,
     "metadata": {},
     "output_type": "execute_result"
    }
   ],
   "source": [
    "label_map = {1: 'REAL', 0: 'FAKE'}\n",
    "data['label'] = data['label'].map(label_map)\n",
    "data.drop('Unnamed: 0', axis=1, inplace=True)\n",
    "data.tail()"
   ]
  },
  {
   "cell_type": "code",
   "execution_count": 107,
   "metadata": {},
   "outputs": [
    {
     "data": {
      "text/html": [
       "<div>\n",
       "<style scoped>\n",
       "    .dataframe tbody tr th:only-of-type {\n",
       "        vertical-align: middle;\n",
       "    }\n",
       "\n",
       "    .dataframe tbody tr th {\n",
       "        vertical-align: top;\n",
       "    }\n",
       "\n",
       "    .dataframe thead th {\n",
       "        text-align: right;\n",
       "    }\n",
       "</style>\n",
       "<table border=\"1\" class=\"dataframe\">\n",
       "  <thead>\n",
       "    <tr style=\"text-align: right;\">\n",
       "      <th></th>\n",
       "      <th>text</th>\n",
       "      <th>label</th>\n",
       "    </tr>\n",
       "  </thead>\n",
       "  <tbody>\n",
       "    <tr>\n",
       "      <th>21313</th>\n",
       "      <td>\"I fought to bring about the largest private-s...</td>\n",
       "      <td>REAL</td>\n",
       "    </tr>\n",
       "    <tr>\n",
       "      <th>21314</th>\n",
       "      <td>\"When George Bush said we shouldn't investigat...</td>\n",
       "      <td>REAL</td>\n",
       "    </tr>\n",
       "    <tr>\n",
       "      <th>21315</th>\n",
       "      <td>Sarah Palin was repeating \"Abraham Lincoln's w...</td>\n",
       "      <td>REAL</td>\n",
       "    </tr>\n",
       "    <tr>\n",
       "      <th>21316</th>\n",
       "      <td>\"He admits he still doesn't know how to use a ...</td>\n",
       "      <td>REAL</td>\n",
       "    </tr>\n",
       "    <tr>\n",
       "      <th>21317</th>\n",
       "      <td>Obama's one education accomplishment was \"legi...</td>\n",
       "      <td>FAKE</td>\n",
       "    </tr>\n",
       "  </tbody>\n",
       "</table>\n",
       "</div>"
      ],
      "text/plain": [
       "                                                    text label\n",
       "21313  \"I fought to bring about the largest private-s...  REAL\n",
       "21314  \"When George Bush said we shouldn't investigat...  REAL\n",
       "21315  Sarah Palin was repeating \"Abraham Lincoln's w...  REAL\n",
       "21316  \"He admits he still doesn't know how to use a ...  REAL\n",
       "21317  Obama's one education accomplishment was \"legi...  FAKE"
      ]
     },
     "execution_count": 107,
     "metadata": {},
     "output_type": "execute_result"
    }
   ],
   "source": [
    "# Rename columns\n",
    "data.rename(columns={'news': 'text'}, inplace=True)\n",
    "data.to_csv('politifact_dataset.csv', index=False)\n",
    "data.tail()\n"
   ]
  },
  {
   "cell_type": "code",
   "execution_count": 124,
   "metadata": {},
   "outputs": [
    {
     "data": {
      "text/html": [
       "<div>\n",
       "<style scoped>\n",
       "    .dataframe tbody tr th:only-of-type {\n",
       "        vertical-align: middle;\n",
       "    }\n",
       "\n",
       "    .dataframe tbody tr th {\n",
       "        vertical-align: top;\n",
       "    }\n",
       "\n",
       "    .dataframe thead th {\n",
       "        text-align: right;\n",
       "    }\n",
       "</style>\n",
       "<table border=\"1\" class=\"dataframe\">\n",
       "  <thead>\n",
       "    <tr style=\"text-align: right;\">\n",
       "      <th></th>\n",
       "      <th>title</th>\n",
       "      <th>text</th>\n",
       "      <th>label</th>\n",
       "    </tr>\n",
       "  </thead>\n",
       "  <tbody>\n",
       "    <tr>\n",
       "      <th>72129</th>\n",
       "      <td>Russians steal research on Trump in hack of U....</td>\n",
       "      <td>WASHINGTON (Reuters) - Hackers believed to be ...</td>\n",
       "      <td>FAKE</td>\n",
       "    </tr>\n",
       "    <tr>\n",
       "      <th>72130</th>\n",
       "      <td>WATCH: Giuliani Demands That Democrats Apolog...</td>\n",
       "      <td>You know, because in fantasyland Republicans n...</td>\n",
       "      <td>REAL</td>\n",
       "    </tr>\n",
       "    <tr>\n",
       "      <th>72131</th>\n",
       "      <td>Migrants Refuse To Leave Train At Refugee Camp...</td>\n",
       "      <td>Migrants Refuse To Leave Train At Refugee Camp...</td>\n",
       "      <td>FAKE</td>\n",
       "    </tr>\n",
       "    <tr>\n",
       "      <th>72132</th>\n",
       "      <td>Trump tussle gives unpopular Mexican leader mu...</td>\n",
       "      <td>MEXICO CITY (Reuters) - Donald Trump’s combati...</td>\n",
       "      <td>FAKE</td>\n",
       "    </tr>\n",
       "    <tr>\n",
       "      <th>72133</th>\n",
       "      <td>Goldman Sachs Endorses Hillary Clinton For Pre...</td>\n",
       "      <td>Goldman Sachs Endorses Hillary Clinton For Pre...</td>\n",
       "      <td>REAL</td>\n",
       "    </tr>\n",
       "  </tbody>\n",
       "</table>\n",
       "</div>"
      ],
      "text/plain": [
       "                                                   title  \\\n",
       "72129  Russians steal research on Trump in hack of U....   \n",
       "72130   WATCH: Giuliani Demands That Democrats Apolog...   \n",
       "72131  Migrants Refuse To Leave Train At Refugee Camp...   \n",
       "72132  Trump tussle gives unpopular Mexican leader mu...   \n",
       "72133  Goldman Sachs Endorses Hillary Clinton For Pre...   \n",
       "\n",
       "                                                    text label  \n",
       "72129  WASHINGTON (Reuters) - Hackers believed to be ...  FAKE  \n",
       "72130  You know, because in fantasyland Republicans n...  REAL  \n",
       "72131  Migrants Refuse To Leave Train At Refugee Camp...  FAKE  \n",
       "72132  MEXICO CITY (Reuters) - Donald Trump’s combati...  FAKE  \n",
       "72133  Goldman Sachs Endorses Hillary Clinton For Pre...  REAL  "
      ]
     },
     "execution_count": 124,
     "metadata": {},
     "output_type": "execute_result"
    }
   ],
   "source": [
    "data = pd.read_csv('modified_dataset.csv')\n",
    "data.tail()"
   ]
  },
  {
   "cell_type": "code",
   "execution_count": 134,
   "metadata": {},
   "outputs": [
    {
     "data": {
      "application/vnd.plotly.v1+json": {
       "config": {
        "plotlyServerURL": "https://plot.ly"
       },
       "data": [
        {
         "domain": {
          "x": [
           0,
           1
          ],
          "y": [
           0,
           1
          ]
         },
         "hole": 0.6,
         "hovertemplate": "label=%{label}<br>value=%{value}<extra></extra>",
         "labels": [
          "FAKE",
          "REAL"
         ],
         "legendgroup": "",
         "name": "",
         "showlegend": true,
         "type": "pie",
         "values": [
          47173,
          46279
         ]
        }
       ],
       "layout": {
        "legend": {
         "tracegroupgap": 0
        },
        "template": {
         "data": {
          "bar": [
           {
            "error_x": {
             "color": "#2a3f5f"
            },
            "error_y": {
             "color": "#2a3f5f"
            },
            "marker": {
             "line": {
              "color": "#E5ECF6",
              "width": 0.5
             },
             "pattern": {
              "fillmode": "overlay",
              "size": 10,
              "solidity": 0.2
             }
            },
            "type": "bar"
           }
          ],
          "barpolar": [
           {
            "marker": {
             "line": {
              "color": "#E5ECF6",
              "width": 0.5
             },
             "pattern": {
              "fillmode": "overlay",
              "size": 10,
              "solidity": 0.2
             }
            },
            "type": "barpolar"
           }
          ],
          "carpet": [
           {
            "aaxis": {
             "endlinecolor": "#2a3f5f",
             "gridcolor": "white",
             "linecolor": "white",
             "minorgridcolor": "white",
             "startlinecolor": "#2a3f5f"
            },
            "baxis": {
             "endlinecolor": "#2a3f5f",
             "gridcolor": "white",
             "linecolor": "white",
             "minorgridcolor": "white",
             "startlinecolor": "#2a3f5f"
            },
            "type": "carpet"
           }
          ],
          "choropleth": [
           {
            "colorbar": {
             "outlinewidth": 0,
             "ticks": ""
            },
            "type": "choropleth"
           }
          ],
          "contour": [
           {
            "colorbar": {
             "outlinewidth": 0,
             "ticks": ""
            },
            "colorscale": [
             [
              0,
              "#0d0887"
             ],
             [
              0.1111111111111111,
              "#46039f"
             ],
             [
              0.2222222222222222,
              "#7201a8"
             ],
             [
              0.3333333333333333,
              "#9c179e"
             ],
             [
              0.4444444444444444,
              "#bd3786"
             ],
             [
              0.5555555555555556,
              "#d8576b"
             ],
             [
              0.6666666666666666,
              "#ed7953"
             ],
             [
              0.7777777777777778,
              "#fb9f3a"
             ],
             [
              0.8888888888888888,
              "#fdca26"
             ],
             [
              1,
              "#f0f921"
             ]
            ],
            "type": "contour"
           }
          ],
          "contourcarpet": [
           {
            "colorbar": {
             "outlinewidth": 0,
             "ticks": ""
            },
            "type": "contourcarpet"
           }
          ],
          "heatmap": [
           {
            "colorbar": {
             "outlinewidth": 0,
             "ticks": ""
            },
            "colorscale": [
             [
              0,
              "#0d0887"
             ],
             [
              0.1111111111111111,
              "#46039f"
             ],
             [
              0.2222222222222222,
              "#7201a8"
             ],
             [
              0.3333333333333333,
              "#9c179e"
             ],
             [
              0.4444444444444444,
              "#bd3786"
             ],
             [
              0.5555555555555556,
              "#d8576b"
             ],
             [
              0.6666666666666666,
              "#ed7953"
             ],
             [
              0.7777777777777778,
              "#fb9f3a"
             ],
             [
              0.8888888888888888,
              "#fdca26"
             ],
             [
              1,
              "#f0f921"
             ]
            ],
            "type": "heatmap"
           }
          ],
          "heatmapgl": [
           {
            "colorbar": {
             "outlinewidth": 0,
             "ticks": ""
            },
            "colorscale": [
             [
              0,
              "#0d0887"
             ],
             [
              0.1111111111111111,
              "#46039f"
             ],
             [
              0.2222222222222222,
              "#7201a8"
             ],
             [
              0.3333333333333333,
              "#9c179e"
             ],
             [
              0.4444444444444444,
              "#bd3786"
             ],
             [
              0.5555555555555556,
              "#d8576b"
             ],
             [
              0.6666666666666666,
              "#ed7953"
             ],
             [
              0.7777777777777778,
              "#fb9f3a"
             ],
             [
              0.8888888888888888,
              "#fdca26"
             ],
             [
              1,
              "#f0f921"
             ]
            ],
            "type": "heatmapgl"
           }
          ],
          "histogram": [
           {
            "marker": {
             "pattern": {
              "fillmode": "overlay",
              "size": 10,
              "solidity": 0.2
             }
            },
            "type": "histogram"
           }
          ],
          "histogram2d": [
           {
            "colorbar": {
             "outlinewidth": 0,
             "ticks": ""
            },
            "colorscale": [
             [
              0,
              "#0d0887"
             ],
             [
              0.1111111111111111,
              "#46039f"
             ],
             [
              0.2222222222222222,
              "#7201a8"
             ],
             [
              0.3333333333333333,
              "#9c179e"
             ],
             [
              0.4444444444444444,
              "#bd3786"
             ],
             [
              0.5555555555555556,
              "#d8576b"
             ],
             [
              0.6666666666666666,
              "#ed7953"
             ],
             [
              0.7777777777777778,
              "#fb9f3a"
             ],
             [
              0.8888888888888888,
              "#fdca26"
             ],
             [
              1,
              "#f0f921"
             ]
            ],
            "type": "histogram2d"
           }
          ],
          "histogram2dcontour": [
           {
            "colorbar": {
             "outlinewidth": 0,
             "ticks": ""
            },
            "colorscale": [
             [
              0,
              "#0d0887"
             ],
             [
              0.1111111111111111,
              "#46039f"
             ],
             [
              0.2222222222222222,
              "#7201a8"
             ],
             [
              0.3333333333333333,
              "#9c179e"
             ],
             [
              0.4444444444444444,
              "#bd3786"
             ],
             [
              0.5555555555555556,
              "#d8576b"
             ],
             [
              0.6666666666666666,
              "#ed7953"
             ],
             [
              0.7777777777777778,
              "#fb9f3a"
             ],
             [
              0.8888888888888888,
              "#fdca26"
             ],
             [
              1,
              "#f0f921"
             ]
            ],
            "type": "histogram2dcontour"
           }
          ],
          "mesh3d": [
           {
            "colorbar": {
             "outlinewidth": 0,
             "ticks": ""
            },
            "type": "mesh3d"
           }
          ],
          "parcoords": [
           {
            "line": {
             "colorbar": {
              "outlinewidth": 0,
              "ticks": ""
             }
            },
            "type": "parcoords"
           }
          ],
          "pie": [
           {
            "automargin": true,
            "type": "pie"
           }
          ],
          "scatter": [
           {
            "fillpattern": {
             "fillmode": "overlay",
             "size": 10,
             "solidity": 0.2
            },
            "type": "scatter"
           }
          ],
          "scatter3d": [
           {
            "line": {
             "colorbar": {
              "outlinewidth": 0,
              "ticks": ""
             }
            },
            "marker": {
             "colorbar": {
              "outlinewidth": 0,
              "ticks": ""
             }
            },
            "type": "scatter3d"
           }
          ],
          "scattercarpet": [
           {
            "marker": {
             "colorbar": {
              "outlinewidth": 0,
              "ticks": ""
             }
            },
            "type": "scattercarpet"
           }
          ],
          "scattergeo": [
           {
            "marker": {
             "colorbar": {
              "outlinewidth": 0,
              "ticks": ""
             }
            },
            "type": "scattergeo"
           }
          ],
          "scattergl": [
           {
            "marker": {
             "colorbar": {
              "outlinewidth": 0,
              "ticks": ""
             }
            },
            "type": "scattergl"
           }
          ],
          "scattermapbox": [
           {
            "marker": {
             "colorbar": {
              "outlinewidth": 0,
              "ticks": ""
             }
            },
            "type": "scattermapbox"
           }
          ],
          "scatterpolar": [
           {
            "marker": {
             "colorbar": {
              "outlinewidth": 0,
              "ticks": ""
             }
            },
            "type": "scatterpolar"
           }
          ],
          "scatterpolargl": [
           {
            "marker": {
             "colorbar": {
              "outlinewidth": 0,
              "ticks": ""
             }
            },
            "type": "scatterpolargl"
           }
          ],
          "scatterternary": [
           {
            "marker": {
             "colorbar": {
              "outlinewidth": 0,
              "ticks": ""
             }
            },
            "type": "scatterternary"
           }
          ],
          "surface": [
           {
            "colorbar": {
             "outlinewidth": 0,
             "ticks": ""
            },
            "colorscale": [
             [
              0,
              "#0d0887"
             ],
             [
              0.1111111111111111,
              "#46039f"
             ],
             [
              0.2222222222222222,
              "#7201a8"
             ],
             [
              0.3333333333333333,
              "#9c179e"
             ],
             [
              0.4444444444444444,
              "#bd3786"
             ],
             [
              0.5555555555555556,
              "#d8576b"
             ],
             [
              0.6666666666666666,
              "#ed7953"
             ],
             [
              0.7777777777777778,
              "#fb9f3a"
             ],
             [
              0.8888888888888888,
              "#fdca26"
             ],
             [
              1,
              "#f0f921"
             ]
            ],
            "type": "surface"
           }
          ],
          "table": [
           {
            "cells": {
             "fill": {
              "color": "#EBF0F8"
             },
             "line": {
              "color": "white"
             }
            },
            "header": {
             "fill": {
              "color": "#C8D4E3"
             },
             "line": {
              "color": "white"
             }
            },
            "type": "table"
           }
          ]
         },
         "layout": {
          "annotationdefaults": {
           "arrowcolor": "#2a3f5f",
           "arrowhead": 0,
           "arrowwidth": 1
          },
          "autotypenumbers": "strict",
          "coloraxis": {
           "colorbar": {
            "outlinewidth": 0,
            "ticks": ""
           }
          },
          "colorscale": {
           "diverging": [
            [
             0,
             "#8e0152"
            ],
            [
             0.1,
             "#c51b7d"
            ],
            [
             0.2,
             "#de77ae"
            ],
            [
             0.3,
             "#f1b6da"
            ],
            [
             0.4,
             "#fde0ef"
            ],
            [
             0.5,
             "#f7f7f7"
            ],
            [
             0.6,
             "#e6f5d0"
            ],
            [
             0.7,
             "#b8e186"
            ],
            [
             0.8,
             "#7fbc41"
            ],
            [
             0.9,
             "#4d9221"
            ],
            [
             1,
             "#276419"
            ]
           ],
           "sequential": [
            [
             0,
             "#0d0887"
            ],
            [
             0.1111111111111111,
             "#46039f"
            ],
            [
             0.2222222222222222,
             "#7201a8"
            ],
            [
             0.3333333333333333,
             "#9c179e"
            ],
            [
             0.4444444444444444,
             "#bd3786"
            ],
            [
             0.5555555555555556,
             "#d8576b"
            ],
            [
             0.6666666666666666,
             "#ed7953"
            ],
            [
             0.7777777777777778,
             "#fb9f3a"
            ],
            [
             0.8888888888888888,
             "#fdca26"
            ],
            [
             1,
             "#f0f921"
            ]
           ],
           "sequentialminus": [
            [
             0,
             "#0d0887"
            ],
            [
             0.1111111111111111,
             "#46039f"
            ],
            [
             0.2222222222222222,
             "#7201a8"
            ],
            [
             0.3333333333333333,
             "#9c179e"
            ],
            [
             0.4444444444444444,
             "#bd3786"
            ],
            [
             0.5555555555555556,
             "#d8576b"
            ],
            [
             0.6666666666666666,
             "#ed7953"
            ],
            [
             0.7777777777777778,
             "#fb9f3a"
            ],
            [
             0.8888888888888888,
             "#fdca26"
            ],
            [
             1,
             "#f0f921"
            ]
           ]
          },
          "colorway": [
           "#636efa",
           "#EF553B",
           "#00cc96",
           "#ab63fa",
           "#FFA15A",
           "#19d3f3",
           "#FF6692",
           "#B6E880",
           "#FF97FF",
           "#FECB52"
          ],
          "font": {
           "color": "#2a3f5f"
          },
          "geo": {
           "bgcolor": "white",
           "lakecolor": "white",
           "landcolor": "#E5ECF6",
           "showlakes": true,
           "showland": true,
           "subunitcolor": "white"
          },
          "hoverlabel": {
           "align": "left"
          },
          "hovermode": "closest",
          "mapbox": {
           "style": "light"
          },
          "paper_bgcolor": "white",
          "plot_bgcolor": "#E5ECF6",
          "polar": {
           "angularaxis": {
            "gridcolor": "white",
            "linecolor": "white",
            "ticks": ""
           },
           "bgcolor": "#E5ECF6",
           "radialaxis": {
            "gridcolor": "white",
            "linecolor": "white",
            "ticks": ""
           }
          },
          "scene": {
           "xaxis": {
            "backgroundcolor": "#E5ECF6",
            "gridcolor": "white",
            "gridwidth": 2,
            "linecolor": "white",
            "showbackground": true,
            "ticks": "",
            "zerolinecolor": "white"
           },
           "yaxis": {
            "backgroundcolor": "#E5ECF6",
            "gridcolor": "white",
            "gridwidth": 2,
            "linecolor": "white",
            "showbackground": true,
            "ticks": "",
            "zerolinecolor": "white"
           },
           "zaxis": {
            "backgroundcolor": "#E5ECF6",
            "gridcolor": "white",
            "gridwidth": 2,
            "linecolor": "white",
            "showbackground": true,
            "ticks": "",
            "zerolinecolor": "white"
           }
          },
          "shapedefaults": {
           "line": {
            "color": "#2a3f5f"
           }
          },
          "ternary": {
           "aaxis": {
            "gridcolor": "white",
            "linecolor": "white",
            "ticks": ""
           },
           "baxis": {
            "gridcolor": "white",
            "linecolor": "white",
            "ticks": ""
           },
           "bgcolor": "#E5ECF6",
           "caxis": {
            "gridcolor": "white",
            "linecolor": "white",
            "ticks": ""
           }
          },
          "title": {
           "x": 0.05
          },
          "xaxis": {
           "automargin": true,
           "gridcolor": "white",
           "linecolor": "white",
           "ticks": "",
           "title": {
            "standoff": 15
           },
           "zerolinecolor": "white",
           "zerolinewidth": 2
          },
          "yaxis": {
           "automargin": true,
           "gridcolor": "white",
           "linecolor": "white",
           "ticks": "",
           "title": {
            "standoff": 15
           },
           "zerolinecolor": "white",
           "zerolinewidth": 2
          }
         }
        },
        "title": {
         "text": "Spam & Ham Status"
        }
       }
      }
     },
     "metadata": {},
     "output_type": "display_data"
    }
   ],
   "source": [
    "label_Status = data['label'].value_counts()\n",
    "transactions = label_Status.index\n",
    "quantity = label_Status.values\n",
    "\n",
    "figure = px.pie(data, \n",
    "             values=quantity, \n",
    "             names=transactions, hole =.60, \n",
    "             title=\"Spam & Ham Status\")\n",
    "figure.show()"
   ]
  },
  {
   "cell_type": "code",
   "execution_count": 20,
   "metadata": {},
   "outputs": [],
   "source": [
    "# Define the column headers\n",
    "column_headers = [\n",
    "    \"ID\", \"label\", \"statement\", \"subject(s)\", \"speaker\",\n",
    "    \"speaker's job title\", \"state info\", \"party affiliation\",\n",
    "    \"barely true counts\", \"false counts\", \"half true counts\",\n",
    "    \"mostly true counts\", \"pants on fire counts\", \"context\"\n",
    "]\n",
    "\n",
    "# Read the existing TSV file and add the headers\n",
    "with open('train.tsv', 'r', encoding='utf-8') as f:\n",
    "    lines = f.readlines()\n",
    "\n",
    "# Insert the headers at the beginning of the file\n",
    "lines.insert(0, '\\t'.join(column_headers) + '\\n')"
   ]
  },
  {
   "cell_type": "code",
   "execution_count": 1,
   "metadata": {},
   "outputs": [
    {
     "name": "stdout",
     "output_type": "stream",
     "text": [
      "Dataset downloaded and saved as Malware_dataset.csv\n"
     ]
    }
   ],
   "source": [
    "import requests\n",
    "\n",
    "url = \"https://raw.githubusercontent.com/Projects-Developer/Malware-Detection-Using-Deep-Learning-Project/main/Malware%20dataset.csv\"\n",
    "response = requests.get(url)\n",
    "\n",
    "# Save the content to a file\n",
    "with open(\"Malware_dataset.csv\", \"wb\") as file:\n",
    "    file.write(response.content)\n",
    "\n",
    "print(\"Dataset downloaded and saved as Malware_dataset.csv\")\n"
   ]
  },
  {
   "cell_type": "code",
   "execution_count": 4,
   "metadata": {},
   "outputs": [],
   "source": [
    "with open('train_with_headers.tsv', 'w', encoding='utf-8') as f:\n",
    "    f.writelines(lines)"
   ]
  },
  {
   "cell_type": "code",
   "execution_count": 21,
   "metadata": {},
   "outputs": [],
   "source": [
    "# Define the new column headers\n",
    "column_headers = [\n",
    "    \"title\", \"text\", \"label\"\n",
    "]\n",
    "\n",
    "# Read the existing TSV file and extract only required columns\n",
    "data = []\n",
    "with open('train.tsv', 'r', encoding='utf-8') as f:\n",
    "    for line in f:\n",
    "        columns = line.strip().split('\\t')\n",
    "        data.append([columns[3], columns[2], columns[1]])\n",
    "\n",
    "# Write the updated content back to the file with new headers\n",
    "with open('train_modified.tsv', 'w', encoding='utf-8') as f:\n",
    "    # Write the new headers\n",
    "    f.write('\\t'.join(column_headers) + '\\n')\n",
    "    \n",
    "    # Write the data rows\n",
    "    for row in data:\n",
    "        f.write('\\t'.join(row) + '\\n')\n"
   ]
  },
  {
   "cell_type": "code",
   "execution_count": 22,
   "metadata": {},
   "outputs": [],
   "source": [
    "# Define the new column headers\n",
    "column_headers = [\n",
    "    \"title\", \"text\", \"label\"\n",
    "]\n",
    "\n",
    "# Read the existing TSV file, modify label values, and extract only required columns\n",
    "data = []\n",
    "with open('train.tsv', 'r', encoding='utf-8') as f:\n",
    "    for line in f:\n",
    "        columns = line.strip().split('\\t')\n",
    "        label = columns[1]\n",
    "        # Modify label values\n",
    "        if \"true\" in label.lower():\n",
    "            label = \"REAL\"\n",
    "        elif \"pants-fire\" in label.lower() or \"false\" in label.lower():\n",
    "            label = \"FAKE\"\n",
    "        data.append('\\t'.join([columns[3], columns[2], label]))  # Join columns with tab delimiter\n",
    "\n",
    "# Write the updated content back to the file with new headers\n",
    "with open('train_modified.tsv', 'w', encoding='utf-8') as f:\n",
    "    # Write the new headers\n",
    "    f.write('\\t'.join(column_headers) + '\\n')\n",
    "    \n",
    "    # Write the data rows\n",
    "    for row in data:\n",
    "        f.write(row + '\\n')\n"
   ]
  },
  {
   "cell_type": "code",
   "execution_count": 51,
   "metadata": {},
   "outputs": [
    {
     "data": {
      "text/html": [
       "<div>\n",
       "<style scoped>\n",
       "    .dataframe tbody tr th:only-of-type {\n",
       "        vertical-align: middle;\n",
       "    }\n",
       "\n",
       "    .dataframe tbody tr th {\n",
       "        vertical-align: top;\n",
       "    }\n",
       "\n",
       "    .dataframe thead th {\n",
       "        text-align: right;\n",
       "    }\n",
       "</style>\n",
       "<table border=\"1\" class=\"dataframe\">\n",
       "  <thead>\n",
       "    <tr style=\"text-align: right;\">\n",
       "      <th></th>\n",
       "      <th>Unnamed: 0.2</th>\n",
       "      <th>Unnamed: 0</th>\n",
       "      <th>Unnamed: 0.1</th>\n",
       "      <th>Unnamed: 0.1.1</th>\n",
       "      <th>author</th>\n",
       "      <th>clean_title</th>\n",
       "      <th>created_utc</th>\n",
       "      <th>domain</th>\n",
       "      <th>hasImage</th>\n",
       "      <th>id</th>\n",
       "      <th>image_url</th>\n",
       "      <th>linked_submission_id</th>\n",
       "      <th>num_comments</th>\n",
       "      <th>score</th>\n",
       "      <th>subreddit</th>\n",
       "      <th>title</th>\n",
       "      <th>upvote_ratio</th>\n",
       "      <th>2_way_label</th>\n",
       "      <th>3_way_label</th>\n",
       "      <th>6_way_label</th>\n",
       "    </tr>\n",
       "  </thead>\n",
       "  <tbody>\n",
       "    <tr>\n",
       "      <th>878208</th>\n",
       "      <td>878208</td>\n",
       "      <td>878208</td>\n",
       "      <td>179553.0</td>\n",
       "      <td>816673.0</td>\n",
       "      <td>PM_ME_IMSAD</td>\n",
       "      <td>shaolin cat</td>\n",
       "      <td>1.430922e+09</td>\n",
       "      <td>NaN</td>\n",
       "      <td>True</td>\n",
       "      <td>cr07tnf</td>\n",
       "      <td>http://i.imgur.com/i5XIbXJ.jpg</td>\n",
       "      <td>351a9o</td>\n",
       "      <td>NaN</td>\n",
       "      <td>4</td>\n",
       "      <td>psbattle_artwork</td>\n",
       "      <td>Shaolin Cat</td>\n",
       "      <td>NaN</td>\n",
       "      <td>0</td>\n",
       "      <td>2</td>\n",
       "      <td>4</td>\n",
       "    </tr>\n",
       "    <tr>\n",
       "      <th>878209</th>\n",
       "      <td>878209</td>\n",
       "      <td>878209</td>\n",
       "      <td>283359.0</td>\n",
       "      <td>1232382.0</td>\n",
       "      <td>nopeitsnotme</td>\n",
       "      <td>silly walks</td>\n",
       "      <td>1.378055e+09</td>\n",
       "      <td>NaN</td>\n",
       "      <td>True</td>\n",
       "      <td>cbzo5cm</td>\n",
       "      <td>http://i.imgur.com/2b6xvHt.jpg</td>\n",
       "      <td>1lil54</td>\n",
       "      <td>NaN</td>\n",
       "      <td>381</td>\n",
       "      <td>psbattle_artwork</td>\n",
       "      <td>Silly Walks</td>\n",
       "      <td>NaN</td>\n",
       "      <td>0</td>\n",
       "      <td>2</td>\n",
       "      <td>4</td>\n",
       "    </tr>\n",
       "    <tr>\n",
       "      <th>878210</th>\n",
       "      <td>878210</td>\n",
       "      <td>878210</td>\n",
       "      <td>NaN</td>\n",
       "      <td>NaN</td>\n",
       "      <td>Jackrymer21</td>\n",
       "      <td>the sky was dabbing on me today</td>\n",
       "      <td>1.563758e+09</td>\n",
       "      <td>i.redd.it</td>\n",
       "      <td>True</td>\n",
       "      <td>cg6nmo</td>\n",
       "      <td>https://preview.redd.it/aloml4bv8rb31.jpg?widt...</td>\n",
       "      <td>NaN</td>\n",
       "      <td>4.0</td>\n",
       "      <td>4</td>\n",
       "      <td>mildlyinteresting</td>\n",
       "      <td>The sky was dabbing on me today</td>\n",
       "      <td>0.56</td>\n",
       "      <td>1</td>\n",
       "      <td>0</td>\n",
       "      <td>0</td>\n",
       "    </tr>\n",
       "    <tr>\n",
       "      <th>878211</th>\n",
       "      <td>878211</td>\n",
       "      <td>878211</td>\n",
       "      <td>NaN</td>\n",
       "      <td>NaN</td>\n",
       "      <td>apieracc</td>\n",
       "      <td>found this guy after moving my shower caddy of...</td>\n",
       "      <td>1.365028e+09</td>\n",
       "      <td>i.imgur.com</td>\n",
       "      <td>True</td>\n",
       "      <td>1bmb6h</td>\n",
       "      <td>https://external-preview.redd.it/3pcutlT6hYUy7...</td>\n",
       "      <td>NaN</td>\n",
       "      <td>0.0</td>\n",
       "      <td>5</td>\n",
       "      <td>pareidolia</td>\n",
       "      <td>Found this guy after moving my shower caddy of...</td>\n",
       "      <td>1.00</td>\n",
       "      <td>0</td>\n",
       "      <td>2</td>\n",
       "      <td>2</td>\n",
       "    </tr>\n",
       "    <tr>\n",
       "      <th>878212</th>\n",
       "      <td>878212</td>\n",
       "      <td>878212</td>\n",
       "      <td>NaN</td>\n",
       "      <td>NaN</td>\n",
       "      <td>wesman212</td>\n",
       "      <td>hello kitty arrested on drunken driving charge</td>\n",
       "      <td>1.414604e+09</td>\n",
       "      <td>wtnh.com</td>\n",
       "      <td>False</td>\n",
       "      <td>2kozsa</td>\n",
       "      <td>NaN</td>\n",
       "      <td>NaN</td>\n",
       "      <td>0.0</td>\n",
       "      <td>6</td>\n",
       "      <td>nottheonion</td>\n",
       "      <td>‘Hello Kitty’ arrested on drunken driving charge</td>\n",
       "      <td>0.64</td>\n",
       "      <td>1</td>\n",
       "      <td>0</td>\n",
       "      <td>0</td>\n",
       "    </tr>\n",
       "    <tr>\n",
       "      <th>878213</th>\n",
       "      <td>878213</td>\n",
       "      <td>878213</td>\n",
       "      <td>NaN</td>\n",
       "      <td>NaN</td>\n",
       "      <td>PotatoSlapper</td>\n",
       "      <td>clinton campaign uses noise machine to block r...</td>\n",
       "      <td>1.460096e+09</td>\n",
       "      <td>dailycaller.com</td>\n",
       "      <td>False</td>\n",
       "      <td>4dv6j8</td>\n",
       "      <td>NaN</td>\n",
       "      <td>NaN</td>\n",
       "      <td>1.0</td>\n",
       "      <td>7</td>\n",
       "      <td>nottheonion</td>\n",
       "      <td>Clinton Campaign Uses Noise Machine To Block R...</td>\n",
       "      <td>1.00</td>\n",
       "      <td>1</td>\n",
       "      <td>0</td>\n",
       "      <td>0</td>\n",
       "    </tr>\n",
       "    <tr>\n",
       "      <th>878214</th>\n",
       "      <td>878214</td>\n",
       "      <td>878214</td>\n",
       "      <td>NaN</td>\n",
       "      <td>NaN</td>\n",
       "      <td>fatkiddown</td>\n",
       "      <td>a squirrels imprint in wet concrete</td>\n",
       "      <td>1.472570e+09</td>\n",
       "      <td>i.redd.it</td>\n",
       "      <td>True</td>\n",
       "      <td>50bmkc</td>\n",
       "      <td>https://preview.redd.it/mhph05cnveix.jpg?width...</td>\n",
       "      <td>NaN</td>\n",
       "      <td>1.0</td>\n",
       "      <td>9</td>\n",
       "      <td>photoshopbattles</td>\n",
       "      <td>PsBattle: A Squirrel's Imprint In Wet Concrete...</td>\n",
       "      <td>0.90</td>\n",
       "      <td>1</td>\n",
       "      <td>0</td>\n",
       "      <td>0</td>\n",
       "    </tr>\n",
       "    <tr>\n",
       "      <th>878215</th>\n",
       "      <td>878215</td>\n",
       "      <td>878215</td>\n",
       "      <td>NaN</td>\n",
       "      <td>NaN</td>\n",
       "      <td>MrChrisOD</td>\n",
       "      <td>he keeps an eye on the burner whilst i cook</td>\n",
       "      <td>1.520807e+09</td>\n",
       "      <td>i.imgur.com</td>\n",
       "      <td>True</td>\n",
       "      <td>83q3ot</td>\n",
       "      <td>https://external-preview.redd.it/afTHQfSIpVY52...</td>\n",
       "      <td>NaN</td>\n",
       "      <td>0.0</td>\n",
       "      <td>2</td>\n",
       "      <td>pareidolia</td>\n",
       "      <td>He keeps an eye on the burner whilst I cook</td>\n",
       "      <td>0.75</td>\n",
       "      <td>0</td>\n",
       "      <td>2</td>\n",
       "      <td>2</td>\n",
       "    </tr>\n",
       "    <tr>\n",
       "      <th>878216</th>\n",
       "      <td>878216</td>\n",
       "      <td>878216</td>\n",
       "      <td>NaN</td>\n",
       "      <td>NaN</td>\n",
       "      <td>NaN</td>\n",
       "      <td>video game kingpin super mario is finally capt...</td>\n",
       "      <td>1.565283e+09</td>\n",
       "      <td>i.redd.it</td>\n",
       "      <td>False</td>\n",
       "      <td>cnoe3v</td>\n",
       "      <td>NaN</td>\n",
       "      <td>NaN</td>\n",
       "      <td>0.0</td>\n",
       "      <td>16</td>\n",
       "      <td>fakehistoryporn</td>\n",
       "      <td>Video Game kingpin \"Super Mario\" is finally ca...</td>\n",
       "      <td>1.00</td>\n",
       "      <td>0</td>\n",
       "      <td>2</td>\n",
       "      <td>2</td>\n",
       "    </tr>\n",
       "    <tr>\n",
       "      <th>878217</th>\n",
       "      <td>878217</td>\n",
       "      <td>878217</td>\n",
       "      <td>62754.0</td>\n",
       "      <td>280950.0</td>\n",
       "      <td>GeneralFelixBraxton</td>\n",
       "      <td>mrg</td>\n",
       "      <td>1.505828e+09</td>\n",
       "      <td>NaN</td>\n",
       "      <td>True</td>\n",
       "      <td>dn7ou9u</td>\n",
       "      <td>https://i.imgur.com/IiARoWE.jpg</td>\n",
       "      <td>70w3kt</td>\n",
       "      <td>NaN</td>\n",
       "      <td>1</td>\n",
       "      <td>psbattle_artwork</td>\n",
       "      <td>Mr.G</td>\n",
       "      <td>NaN</td>\n",
       "      <td>0</td>\n",
       "      <td>2</td>\n",
       "      <td>4</td>\n",
       "    </tr>\n",
       "  </tbody>\n",
       "</table>\n",
       "</div>"
      ],
      "text/plain": [
       "        Unnamed: 0.2  Unnamed: 0  Unnamed: 0.1  Unnamed: 0.1.1  \\\n",
       "878208        878208      878208      179553.0        816673.0   \n",
       "878209        878209      878209      283359.0       1232382.0   \n",
       "878210        878210      878210           NaN             NaN   \n",
       "878211        878211      878211           NaN             NaN   \n",
       "878212        878212      878212           NaN             NaN   \n",
       "878213        878213      878213           NaN             NaN   \n",
       "878214        878214      878214           NaN             NaN   \n",
       "878215        878215      878215           NaN             NaN   \n",
       "878216        878216      878216           NaN             NaN   \n",
       "878217        878217      878217       62754.0        280950.0   \n",
       "\n",
       "                     author  \\\n",
       "878208          PM_ME_IMSAD   \n",
       "878209         nopeitsnotme   \n",
       "878210          Jackrymer21   \n",
       "878211             apieracc   \n",
       "878212            wesman212   \n",
       "878213        PotatoSlapper   \n",
       "878214           fatkiddown   \n",
       "878215            MrChrisOD   \n",
       "878216                  NaN   \n",
       "878217  GeneralFelixBraxton   \n",
       "\n",
       "                                              clean_title   created_utc  \\\n",
       "878208                                        shaolin cat  1.430922e+09   \n",
       "878209                                        silly walks  1.378055e+09   \n",
       "878210                    the sky was dabbing on me today  1.563758e+09   \n",
       "878211  found this guy after moving my shower caddy of...  1.365028e+09   \n",
       "878212     hello kitty arrested on drunken driving charge  1.414604e+09   \n",
       "878213  clinton campaign uses noise machine to block r...  1.460096e+09   \n",
       "878214                a squirrels imprint in wet concrete  1.472570e+09   \n",
       "878215        he keeps an eye on the burner whilst i cook  1.520807e+09   \n",
       "878216  video game kingpin super mario is finally capt...  1.565283e+09   \n",
       "878217                                                mrg  1.505828e+09   \n",
       "\n",
       "                 domain  hasImage       id  \\\n",
       "878208              NaN      True  cr07tnf   \n",
       "878209              NaN      True  cbzo5cm   \n",
       "878210        i.redd.it      True   cg6nmo   \n",
       "878211      i.imgur.com      True   1bmb6h   \n",
       "878212         wtnh.com     False   2kozsa   \n",
       "878213  dailycaller.com     False   4dv6j8   \n",
       "878214        i.redd.it      True   50bmkc   \n",
       "878215      i.imgur.com      True   83q3ot   \n",
       "878216        i.redd.it     False   cnoe3v   \n",
       "878217              NaN      True  dn7ou9u   \n",
       "\n",
       "                                                image_url  \\\n",
       "878208                     http://i.imgur.com/i5XIbXJ.jpg   \n",
       "878209                     http://i.imgur.com/2b6xvHt.jpg   \n",
       "878210  https://preview.redd.it/aloml4bv8rb31.jpg?widt...   \n",
       "878211  https://external-preview.redd.it/3pcutlT6hYUy7...   \n",
       "878212                                                NaN   \n",
       "878213                                                NaN   \n",
       "878214  https://preview.redd.it/mhph05cnveix.jpg?width...   \n",
       "878215  https://external-preview.redd.it/afTHQfSIpVY52...   \n",
       "878216                                                NaN   \n",
       "878217                    https://i.imgur.com/IiARoWE.jpg   \n",
       "\n",
       "       linked_submission_id  num_comments  score          subreddit  \\\n",
       "878208               351a9o           NaN      4   psbattle_artwork   \n",
       "878209               1lil54           NaN    381   psbattle_artwork   \n",
       "878210                  NaN           4.0      4  mildlyinteresting   \n",
       "878211                  NaN           0.0      5         pareidolia   \n",
       "878212                  NaN           0.0      6        nottheonion   \n",
       "878213                  NaN           1.0      7        nottheonion   \n",
       "878214                  NaN           1.0      9   photoshopbattles   \n",
       "878215                  NaN           0.0      2         pareidolia   \n",
       "878216                  NaN           0.0     16    fakehistoryporn   \n",
       "878217               70w3kt           NaN      1   psbattle_artwork   \n",
       "\n",
       "                                                    title  upvote_ratio  \\\n",
       "878208                                        Shaolin Cat           NaN   \n",
       "878209                                        Silly Walks           NaN   \n",
       "878210                    The sky was dabbing on me today          0.56   \n",
       "878211  Found this guy after moving my shower caddy of...          1.00   \n",
       "878212   ‘Hello Kitty’ arrested on drunken driving charge          0.64   \n",
       "878213  Clinton Campaign Uses Noise Machine To Block R...          1.00   \n",
       "878214  PsBattle: A Squirrel's Imprint In Wet Concrete...          0.90   \n",
       "878215        He keeps an eye on the burner whilst I cook          0.75   \n",
       "878216  Video Game kingpin \"Super Mario\" is finally ca...          1.00   \n",
       "878217                                               Mr.G           NaN   \n",
       "\n",
       "        2_way_label  3_way_label  6_way_label  \n",
       "878208            0            2            4  \n",
       "878209            0            2            4  \n",
       "878210            1            0            0  \n",
       "878211            0            2            2  \n",
       "878212            1            0            0  \n",
       "878213            1            0            0  \n",
       "878214            1            0            0  \n",
       "878215            0            2            2  \n",
       "878216            0            2            2  \n",
       "878217            0            2            4  "
      ]
     },
     "execution_count": 51,
     "metadata": {},
     "output_type": "execute_result"
    }
   ],
   "source": [
    "data = pd.read_csv('all_train.tsv',sep='\\t')\n",
    "data.tail(10)"
   ]
  },
  {
   "cell_type": "code",
   "execution_count": 81,
   "metadata": {},
   "outputs": [
    {
     "data": {
      "text/html": [
       "<div>\n",
       "<style scoped>\n",
       "    .dataframe tbody tr th:only-of-type {\n",
       "        vertical-align: middle;\n",
       "    }\n",
       "\n",
       "    .dataframe tbody tr th {\n",
       "        vertical-align: top;\n",
       "    }\n",
       "\n",
       "    .dataframe thead th {\n",
       "        text-align: right;\n",
       "    }\n",
       "</style>\n",
       "<table border=\"1\" class=\"dataframe\">\n",
       "  <thead>\n",
       "    <tr style=\"text-align: right;\">\n",
       "      <th></th>\n",
       "      <th>Unnamed: 0</th>\n",
       "      <th>news</th>\n",
       "      <th>label</th>\n",
       "    </tr>\n",
       "  </thead>\n",
       "  <tbody>\n",
       "    <tr>\n",
       "      <th>17080</th>\n",
       "      <td>17080</td>\n",
       "      <td>McCain economic adviser Phil Gramm is \"the arc...</td>\n",
       "      <td>1</td>\n",
       "    </tr>\n",
       "    <tr>\n",
       "      <th>17081</th>\n",
       "      <td>17081</td>\n",
       "      <td>\"I have never asked for a single earmark, pork...</td>\n",
       "      <td>0</td>\n",
       "    </tr>\n",
       "    <tr>\n",
       "      <th>17082</th>\n",
       "      <td>17082</td>\n",
       "      <td>John McCain said last year he didn't know of a...</td>\n",
       "      <td>1</td>\n",
       "    </tr>\n",
       "    <tr>\n",
       "      <th>17083</th>\n",
       "      <td>17083</td>\n",
       "      <td>\"Obama has asked for $932-million in earmarks,...</td>\n",
       "      <td>1</td>\n",
       "    </tr>\n",
       "    <tr>\n",
       "      <th>17084</th>\n",
       "      <td>17084</td>\n",
       "      <td>\"Through competition as governor, I got agreem...</td>\n",
       "      <td>0</td>\n",
       "    </tr>\n",
       "    <tr>\n",
       "      <th>17085</th>\n",
       "      <td>17085</td>\n",
       "      <td>\"I fought to bring about the largest private-s...</td>\n",
       "      <td>1</td>\n",
       "    </tr>\n",
       "    <tr>\n",
       "      <th>17086</th>\n",
       "      <td>17086</td>\n",
       "      <td>\"When George Bush said we shouldn't investigat...</td>\n",
       "      <td>1</td>\n",
       "    </tr>\n",
       "    <tr>\n",
       "      <th>17087</th>\n",
       "      <td>17087</td>\n",
       "      <td>Sarah Palin was repeating \"Abraham Lincoln's w...</td>\n",
       "      <td>1</td>\n",
       "    </tr>\n",
       "    <tr>\n",
       "      <th>17088</th>\n",
       "      <td>17088</td>\n",
       "      <td>\"He admits he still doesn't know how to use a ...</td>\n",
       "      <td>1</td>\n",
       "    </tr>\n",
       "    <tr>\n",
       "      <th>17089</th>\n",
       "      <td>17089</td>\n",
       "      <td>Obama's one education accomplishment was \"legi...</td>\n",
       "      <td>0</td>\n",
       "    </tr>\n",
       "  </tbody>\n",
       "</table>\n",
       "</div>"
      ],
      "text/plain": [
       "       Unnamed: 0                                               news  label\n",
       "17080       17080  McCain economic adviser Phil Gramm is \"the arc...      1\n",
       "17081       17081  \"I have never asked for a single earmark, pork...      0\n",
       "17082       17082  John McCain said last year he didn't know of a...      1\n",
       "17083       17083  \"Obama has asked for $932-million in earmarks,...      1\n",
       "17084       17084  \"Through competition as governor, I got agreem...      0\n",
       "17085       17085  \"I fought to bring about the largest private-s...      1\n",
       "17086       17086  \"When George Bush said we shouldn't investigat...      1\n",
       "17087       17087  Sarah Palin was repeating \"Abraham Lincoln's w...      1\n",
       "17088       17088  \"He admits he still doesn't know how to use a ...      1\n",
       "17089       17089  Obama's one education accomplishment was \"legi...      0"
      ]
     },
     "execution_count": 81,
     "metadata": {},
     "output_type": "execute_result"
    }
   ],
   "source": [
    "data = pd.read_csv('train.csv')\n",
    "data.tail(10)"
   ]
  },
  {
   "cell_type": "code",
   "execution_count": 69,
   "metadata": {},
   "outputs": [
    {
     "name": "stdout",
     "output_type": "stream",
     "text": [
      "  label                                               text\n",
      "0  REAL  John McCain opposed bankruptcy protections for...\n",
      "1  FAKE  \"Bennie Thompson actively cheer-led riots in t...\n",
      "2  REAL  Says Maggie Hassan was \"out of state on 30 day...\n",
      "3  FAKE  \"BUSTED: CDC Inflated COVID Numbers, Accused o...\n",
      "4  REAL  \"I'm the only (Republican) candidate that has ...\n"
     ]
    }
   ],
   "source": [
    "# Rename columns\n",
    "data.rename(columns={'verdict': 'label', 'statement': 'text'}, inplace=True)\n",
    "\n",
    "# Replace values in the 'label' column\n",
    "data['label'] = data['label'].replace({'false': 'FAKE', 'mostly-false': 'FAKE', 'pants-fire': 'FAKE',\n",
    "                                       'half-true': 'REAL', 'mostly-true': 'REAL', 'true': 'REAL'})\n",
    "\n",
    "# Select only the required columns\n",
    "data = data[['label', 'text']]\n",
    "\n",
    "# Display the first few rows of the modified DataFrame\n",
    "print(data.head())"
   ]
  },
  {
   "cell_type": "code",
   "execution_count": 82,
   "metadata": {},
   "outputs": [
    {
     "data": {
      "text/plain": [
       "Unnamed: 0    0\n",
       "news          0\n",
       "label         0\n",
       "dtype: int64"
      ]
     },
     "execution_count": 82,
     "metadata": {},
     "output_type": "execute_result"
    }
   ],
   "source": [
    "data.isnull().sum()"
   ]
  },
  {
   "cell_type": "code",
   "execution_count": 83,
   "metadata": {},
   "outputs": [
    {
     "data": {
      "application/vnd.plotly.v1+json": {
       "config": {
        "plotlyServerURL": "https://plot.ly"
       },
       "data": [
        {
         "domain": {
          "x": [
           0,
           1
          ],
          "y": [
           0,
           1
          ]
         },
         "hole": 0.6,
         "hovertemplate": "label=%{label}<br>value=%{value}<extra></extra>",
         "labels": [
          0,
          1
         ],
         "legendgroup": "",
         "name": "",
         "showlegend": true,
         "type": "pie",
         "values": [
          9746,
          7344
         ]
        }
       ],
       "layout": {
        "legend": {
         "tracegroupgap": 0
        },
        "template": {
         "data": {
          "bar": [
           {
            "error_x": {
             "color": "#2a3f5f"
            },
            "error_y": {
             "color": "#2a3f5f"
            },
            "marker": {
             "line": {
              "color": "#E5ECF6",
              "width": 0.5
             },
             "pattern": {
              "fillmode": "overlay",
              "size": 10,
              "solidity": 0.2
             }
            },
            "type": "bar"
           }
          ],
          "barpolar": [
           {
            "marker": {
             "line": {
              "color": "#E5ECF6",
              "width": 0.5
             },
             "pattern": {
              "fillmode": "overlay",
              "size": 10,
              "solidity": 0.2
             }
            },
            "type": "barpolar"
           }
          ],
          "carpet": [
           {
            "aaxis": {
             "endlinecolor": "#2a3f5f",
             "gridcolor": "white",
             "linecolor": "white",
             "minorgridcolor": "white",
             "startlinecolor": "#2a3f5f"
            },
            "baxis": {
             "endlinecolor": "#2a3f5f",
             "gridcolor": "white",
             "linecolor": "white",
             "minorgridcolor": "white",
             "startlinecolor": "#2a3f5f"
            },
            "type": "carpet"
           }
          ],
          "choropleth": [
           {
            "colorbar": {
             "outlinewidth": 0,
             "ticks": ""
            },
            "type": "choropleth"
           }
          ],
          "contour": [
           {
            "colorbar": {
             "outlinewidth": 0,
             "ticks": ""
            },
            "colorscale": [
             [
              0,
              "#0d0887"
             ],
             [
              0.1111111111111111,
              "#46039f"
             ],
             [
              0.2222222222222222,
              "#7201a8"
             ],
             [
              0.3333333333333333,
              "#9c179e"
             ],
             [
              0.4444444444444444,
              "#bd3786"
             ],
             [
              0.5555555555555556,
              "#d8576b"
             ],
             [
              0.6666666666666666,
              "#ed7953"
             ],
             [
              0.7777777777777778,
              "#fb9f3a"
             ],
             [
              0.8888888888888888,
              "#fdca26"
             ],
             [
              1,
              "#f0f921"
             ]
            ],
            "type": "contour"
           }
          ],
          "contourcarpet": [
           {
            "colorbar": {
             "outlinewidth": 0,
             "ticks": ""
            },
            "type": "contourcarpet"
           }
          ],
          "heatmap": [
           {
            "colorbar": {
             "outlinewidth": 0,
             "ticks": ""
            },
            "colorscale": [
             [
              0,
              "#0d0887"
             ],
             [
              0.1111111111111111,
              "#46039f"
             ],
             [
              0.2222222222222222,
              "#7201a8"
             ],
             [
              0.3333333333333333,
              "#9c179e"
             ],
             [
              0.4444444444444444,
              "#bd3786"
             ],
             [
              0.5555555555555556,
              "#d8576b"
             ],
             [
              0.6666666666666666,
              "#ed7953"
             ],
             [
              0.7777777777777778,
              "#fb9f3a"
             ],
             [
              0.8888888888888888,
              "#fdca26"
             ],
             [
              1,
              "#f0f921"
             ]
            ],
            "type": "heatmap"
           }
          ],
          "heatmapgl": [
           {
            "colorbar": {
             "outlinewidth": 0,
             "ticks": ""
            },
            "colorscale": [
             [
              0,
              "#0d0887"
             ],
             [
              0.1111111111111111,
              "#46039f"
             ],
             [
              0.2222222222222222,
              "#7201a8"
             ],
             [
              0.3333333333333333,
              "#9c179e"
             ],
             [
              0.4444444444444444,
              "#bd3786"
             ],
             [
              0.5555555555555556,
              "#d8576b"
             ],
             [
              0.6666666666666666,
              "#ed7953"
             ],
             [
              0.7777777777777778,
              "#fb9f3a"
             ],
             [
              0.8888888888888888,
              "#fdca26"
             ],
             [
              1,
              "#f0f921"
             ]
            ],
            "type": "heatmapgl"
           }
          ],
          "histogram": [
           {
            "marker": {
             "pattern": {
              "fillmode": "overlay",
              "size": 10,
              "solidity": 0.2
             }
            },
            "type": "histogram"
           }
          ],
          "histogram2d": [
           {
            "colorbar": {
             "outlinewidth": 0,
             "ticks": ""
            },
            "colorscale": [
             [
              0,
              "#0d0887"
             ],
             [
              0.1111111111111111,
              "#46039f"
             ],
             [
              0.2222222222222222,
              "#7201a8"
             ],
             [
              0.3333333333333333,
              "#9c179e"
             ],
             [
              0.4444444444444444,
              "#bd3786"
             ],
             [
              0.5555555555555556,
              "#d8576b"
             ],
             [
              0.6666666666666666,
              "#ed7953"
             ],
             [
              0.7777777777777778,
              "#fb9f3a"
             ],
             [
              0.8888888888888888,
              "#fdca26"
             ],
             [
              1,
              "#f0f921"
             ]
            ],
            "type": "histogram2d"
           }
          ],
          "histogram2dcontour": [
           {
            "colorbar": {
             "outlinewidth": 0,
             "ticks": ""
            },
            "colorscale": [
             [
              0,
              "#0d0887"
             ],
             [
              0.1111111111111111,
              "#46039f"
             ],
             [
              0.2222222222222222,
              "#7201a8"
             ],
             [
              0.3333333333333333,
              "#9c179e"
             ],
             [
              0.4444444444444444,
              "#bd3786"
             ],
             [
              0.5555555555555556,
              "#d8576b"
             ],
             [
              0.6666666666666666,
              "#ed7953"
             ],
             [
              0.7777777777777778,
              "#fb9f3a"
             ],
             [
              0.8888888888888888,
              "#fdca26"
             ],
             [
              1,
              "#f0f921"
             ]
            ],
            "type": "histogram2dcontour"
           }
          ],
          "mesh3d": [
           {
            "colorbar": {
             "outlinewidth": 0,
             "ticks": ""
            },
            "type": "mesh3d"
           }
          ],
          "parcoords": [
           {
            "line": {
             "colorbar": {
              "outlinewidth": 0,
              "ticks": ""
             }
            },
            "type": "parcoords"
           }
          ],
          "pie": [
           {
            "automargin": true,
            "type": "pie"
           }
          ],
          "scatter": [
           {
            "fillpattern": {
             "fillmode": "overlay",
             "size": 10,
             "solidity": 0.2
            },
            "type": "scatter"
           }
          ],
          "scatter3d": [
           {
            "line": {
             "colorbar": {
              "outlinewidth": 0,
              "ticks": ""
             }
            },
            "marker": {
             "colorbar": {
              "outlinewidth": 0,
              "ticks": ""
             }
            },
            "type": "scatter3d"
           }
          ],
          "scattercarpet": [
           {
            "marker": {
             "colorbar": {
              "outlinewidth": 0,
              "ticks": ""
             }
            },
            "type": "scattercarpet"
           }
          ],
          "scattergeo": [
           {
            "marker": {
             "colorbar": {
              "outlinewidth": 0,
              "ticks": ""
             }
            },
            "type": "scattergeo"
           }
          ],
          "scattergl": [
           {
            "marker": {
             "colorbar": {
              "outlinewidth": 0,
              "ticks": ""
             }
            },
            "type": "scattergl"
           }
          ],
          "scattermapbox": [
           {
            "marker": {
             "colorbar": {
              "outlinewidth": 0,
              "ticks": ""
             }
            },
            "type": "scattermapbox"
           }
          ],
          "scatterpolar": [
           {
            "marker": {
             "colorbar": {
              "outlinewidth": 0,
              "ticks": ""
             }
            },
            "type": "scatterpolar"
           }
          ],
          "scatterpolargl": [
           {
            "marker": {
             "colorbar": {
              "outlinewidth": 0,
              "ticks": ""
             }
            },
            "type": "scatterpolargl"
           }
          ],
          "scatterternary": [
           {
            "marker": {
             "colorbar": {
              "outlinewidth": 0,
              "ticks": ""
             }
            },
            "type": "scatterternary"
           }
          ],
          "surface": [
           {
            "colorbar": {
             "outlinewidth": 0,
             "ticks": ""
            },
            "colorscale": [
             [
              0,
              "#0d0887"
             ],
             [
              0.1111111111111111,
              "#46039f"
             ],
             [
              0.2222222222222222,
              "#7201a8"
             ],
             [
              0.3333333333333333,
              "#9c179e"
             ],
             [
              0.4444444444444444,
              "#bd3786"
             ],
             [
              0.5555555555555556,
              "#d8576b"
             ],
             [
              0.6666666666666666,
              "#ed7953"
             ],
             [
              0.7777777777777778,
              "#fb9f3a"
             ],
             [
              0.8888888888888888,
              "#fdca26"
             ],
             [
              1,
              "#f0f921"
             ]
            ],
            "type": "surface"
           }
          ],
          "table": [
           {
            "cells": {
             "fill": {
              "color": "#EBF0F8"
             },
             "line": {
              "color": "white"
             }
            },
            "header": {
             "fill": {
              "color": "#C8D4E3"
             },
             "line": {
              "color": "white"
             }
            },
            "type": "table"
           }
          ]
         },
         "layout": {
          "annotationdefaults": {
           "arrowcolor": "#2a3f5f",
           "arrowhead": 0,
           "arrowwidth": 1
          },
          "autotypenumbers": "strict",
          "coloraxis": {
           "colorbar": {
            "outlinewidth": 0,
            "ticks": ""
           }
          },
          "colorscale": {
           "diverging": [
            [
             0,
             "#8e0152"
            ],
            [
             0.1,
             "#c51b7d"
            ],
            [
             0.2,
             "#de77ae"
            ],
            [
             0.3,
             "#f1b6da"
            ],
            [
             0.4,
             "#fde0ef"
            ],
            [
             0.5,
             "#f7f7f7"
            ],
            [
             0.6,
             "#e6f5d0"
            ],
            [
             0.7,
             "#b8e186"
            ],
            [
             0.8,
             "#7fbc41"
            ],
            [
             0.9,
             "#4d9221"
            ],
            [
             1,
             "#276419"
            ]
           ],
           "sequential": [
            [
             0,
             "#0d0887"
            ],
            [
             0.1111111111111111,
             "#46039f"
            ],
            [
             0.2222222222222222,
             "#7201a8"
            ],
            [
             0.3333333333333333,
             "#9c179e"
            ],
            [
             0.4444444444444444,
             "#bd3786"
            ],
            [
             0.5555555555555556,
             "#d8576b"
            ],
            [
             0.6666666666666666,
             "#ed7953"
            ],
            [
             0.7777777777777778,
             "#fb9f3a"
            ],
            [
             0.8888888888888888,
             "#fdca26"
            ],
            [
             1,
             "#f0f921"
            ]
           ],
           "sequentialminus": [
            [
             0,
             "#0d0887"
            ],
            [
             0.1111111111111111,
             "#46039f"
            ],
            [
             0.2222222222222222,
             "#7201a8"
            ],
            [
             0.3333333333333333,
             "#9c179e"
            ],
            [
             0.4444444444444444,
             "#bd3786"
            ],
            [
             0.5555555555555556,
             "#d8576b"
            ],
            [
             0.6666666666666666,
             "#ed7953"
            ],
            [
             0.7777777777777778,
             "#fb9f3a"
            ],
            [
             0.8888888888888888,
             "#fdca26"
            ],
            [
             1,
             "#f0f921"
            ]
           ]
          },
          "colorway": [
           "#636efa",
           "#EF553B",
           "#00cc96",
           "#ab63fa",
           "#FFA15A",
           "#19d3f3",
           "#FF6692",
           "#B6E880",
           "#FF97FF",
           "#FECB52"
          ],
          "font": {
           "color": "#2a3f5f"
          },
          "geo": {
           "bgcolor": "white",
           "lakecolor": "white",
           "landcolor": "#E5ECF6",
           "showlakes": true,
           "showland": true,
           "subunitcolor": "white"
          },
          "hoverlabel": {
           "align": "left"
          },
          "hovermode": "closest",
          "mapbox": {
           "style": "light"
          },
          "paper_bgcolor": "white",
          "plot_bgcolor": "#E5ECF6",
          "polar": {
           "angularaxis": {
            "gridcolor": "white",
            "linecolor": "white",
            "ticks": ""
           },
           "bgcolor": "#E5ECF6",
           "radialaxis": {
            "gridcolor": "white",
            "linecolor": "white",
            "ticks": ""
           }
          },
          "scene": {
           "xaxis": {
            "backgroundcolor": "#E5ECF6",
            "gridcolor": "white",
            "gridwidth": 2,
            "linecolor": "white",
            "showbackground": true,
            "ticks": "",
            "zerolinecolor": "white"
           },
           "yaxis": {
            "backgroundcolor": "#E5ECF6",
            "gridcolor": "white",
            "gridwidth": 2,
            "linecolor": "white",
            "showbackground": true,
            "ticks": "",
            "zerolinecolor": "white"
           },
           "zaxis": {
            "backgroundcolor": "#E5ECF6",
            "gridcolor": "white",
            "gridwidth": 2,
            "linecolor": "white",
            "showbackground": true,
            "ticks": "",
            "zerolinecolor": "white"
           }
          },
          "shapedefaults": {
           "line": {
            "color": "#2a3f5f"
           }
          },
          "ternary": {
           "aaxis": {
            "gridcolor": "white",
            "linecolor": "white",
            "ticks": ""
           },
           "baxis": {
            "gridcolor": "white",
            "linecolor": "white",
            "ticks": ""
           },
           "bgcolor": "#E5ECF6",
           "caxis": {
            "gridcolor": "white",
            "linecolor": "white",
            "ticks": ""
           }
          },
          "title": {
           "x": 0.05
          },
          "xaxis": {
           "automargin": true,
           "gridcolor": "white",
           "linecolor": "white",
           "ticks": "",
           "title": {
            "standoff": 15
           },
           "zerolinecolor": "white",
           "zerolinewidth": 2
          },
          "yaxis": {
           "automargin": true,
           "gridcolor": "white",
           "linecolor": "white",
           "ticks": "",
           "title": {
            "standoff": 15
           },
           "zerolinecolor": "white",
           "zerolinewidth": 2
          }
         }
        },
        "title": {
         "text": "Spam & Ham Status"
        }
       }
      }
     },
     "metadata": {},
     "output_type": "display_data"
    }
   ],
   "source": [
    "label_Status = data['label'].value_counts()\n",
    "transactions = label_Status.index\n",
    "quantity = label_Status.values\n",
    "\n",
    "figure = px.pie(data, \n",
    "             values=quantity, \n",
    "             names=transactions, hole =.60, \n",
    "             title=\"Spam & Ham Status\")\n",
    "figure.show()"
   ]
  },
  {
   "cell_type": "code",
   "execution_count": 3,
   "metadata": {},
   "outputs": [
    {
     "name": "stderr",
     "output_type": "stream",
     "text": [
      "Token indices sequence length is longer than the specified maximum sequence length for this model (1200 > 512). Running this sequence through the model will result in indexing errors\n"
     ]
    },
    {
     "name": "stdout",
     "output_type": "stream",
     "text": [
      "                                               title  \\\n",
      "0  LAW ENFORCEMENT ON HIGH ALERT Following Threat...   \n",
      "1                                                      \n",
      "2  UNBELIEVABLE! OBAMA’S ATTORNEY GENERAL SAYS MO...   \n",
      "3  Bobby Jindal, raised Hindu, uses story of Chri...   \n",
      "4  SATAN 2: Russia unvelis an image of its terrif...   \n",
      "\n",
      "                                                text  label  token_length  \n",
      "0  No comment is expected from Barack Obama Membe...      1          1200  \n",
      "1     Did they post their votes for Hillary already?      1            11  \n",
      "2   Now, most of the demonstrators gathered last ...      1            38  \n",
      "3  A dozen politically active pastors came here f...      0          1646  \n",
      "4  The RS-28 Sarmat missile, dubbed Satan 2, will...      1           425  \n"
     ]
    }
   ],
   "source": [
    "import pandas as pd\n",
    "from transformers import DistilBertTokenizer\n",
    "\n",
    "# Load the dataset\n",
    "df = pd.read_csv('WelFake_Dataset.csv')\n",
    "df.drop('Unnamed: 0', axis=1, inplace=True)\n",
    "df.fillna(' ', inplace=True)\n",
    "features = df[['text']]\n",
    "\n",
    "# Load the tokenizer\n",
    "tokenizer = DistilBertTokenizer.from_pretrained('distilbert-base-uncased')\n",
    "\n",
    "# Function to calculate token lengths\n",
    "def calculate_token_length(text, tokenizer):\n",
    "    tokens = tokenizer.encode(text, add_special_tokens=True)\n",
    "    return len(tokens)\n",
    "\n",
    "# Apply the function to the 'text' column\n",
    "df['token_length'] = df['text'].apply(lambda x: calculate_token_length(x, tokenizer))\n",
    "\n",
    "# Display the first few rows to verify\n",
    "print(df.head())"
   ]
  },
  {
   "cell_type": "code",
   "execution_count": 2,
   "metadata": {},
   "outputs": [
    {
     "name": "stdout",
     "output_type": "stream",
     "text": [
      "           iso                                     Country/Region    unit  \\\n",
      "0          BGD                                         Bangladesh  MtCO2e   \n",
      "1  Data source                                                PIK     NaN   \n",
      "2     Data for  Location: Bangladesh. Sectors/Subsectors: Tota...     NaN   \n",
      "\n",
      "   1850  1851  1852  1853  1854  1855  1856  ...   2010   2011   2012   2013  \\\n",
      "0  21.5  21.7  22.0  22.2  22.4  22.6  22.8  ...  139.0  144.0  150.0  152.0   \n",
      "1   NaN   NaN   NaN   NaN   NaN   NaN   NaN  ...    NaN    NaN    NaN    NaN   \n",
      "2   NaN   NaN   NaN   NaN   NaN   NaN   NaN  ...    NaN    NaN    NaN    NaN   \n",
      "\n",
      "    2014   2015   2016   2017   2018   2019  \n",
      "0  158.0  168.0  171.0  179.0  188.0  201.0  \n",
      "1    NaN    NaN    NaN    NaN    NaN    NaN  \n",
      "2    NaN    NaN    NaN    NaN    NaN    NaN  \n",
      "\n",
      "[3 rows x 173 columns]\n"
     ]
    }
   ],
   "source": [
    "import pandas as pd\n",
    "\n",
    "# Assuming you've already read the CSV file into a DataFrame\n",
    "data = pd.read_csv('Carbon emission/ghg-emissions2.csv')\n",
    "\n",
    "# Drop the columns for the years 2020, 2021, and 2022\n",
    "data = data.drop(columns=['2020', '2021', '2022'])\n",
    "\n",
    "# Display the resulting DataFrame\n",
    "print(data)"
   ]
  },
  {
   "cell_type": "code",
   "execution_count": 4,
   "metadata": {},
   "outputs": [],
   "source": [
    "data.to_csv('Carbon emission/ghg-emissions2.csv', index=False)"
   ]
  }
 ],
 "metadata": {
  "kernelspec": {
   "display_name": "Python 3",
   "language": "python",
   "name": "python3"
  },
  "language_info": {
   "codemirror_mode": {
    "name": "ipython",
    "version": 3
   },
   "file_extension": ".py",
   "mimetype": "text/x-python",
   "name": "python",
   "nbconvert_exporter": "python",
   "pygments_lexer": "ipython3",
   "version": "3.10.14"
  }
 },
 "nbformat": 4,
 "nbformat_minor": 2
}
